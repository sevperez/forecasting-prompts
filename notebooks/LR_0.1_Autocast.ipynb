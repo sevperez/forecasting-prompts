{
 "cells": [
  {
   "cell_type": "code",
   "execution_count": 2,
   "id": "9a8ad7fd",
   "metadata": {},
   "outputs": [],
   "source": [
    "import pandas as pd\n",
    "import json"
   ]
  },
  {
   "cell_type": "code",
   "execution_count": 3,
   "id": "6b5c4027",
   "metadata": {},
   "outputs": [
    {
     "data": {
      "text/plain": [
       "['autocast_questions.json', 'negated_tf_questions.json']"
      ]
     },
     "execution_count": 3,
     "metadata": {},
     "output_type": "execute_result"
    }
   ],
   "source": [
    "import os\n",
    "\n",
    "os.listdir('data')"
   ]
  },
  {
   "cell_type": "code",
   "execution_count": 4,
   "id": "9cb0b3de",
   "metadata": {},
   "outputs": [],
   "source": [
    "df1 = pd.read_json('data/autocast_questions.json')"
   ]
  },
  {
   "cell_type": "code",
   "execution_count": 7,
   "id": "4f169519",
   "metadata": {},
   "outputs": [],
   "source": [
    "df2 = pd.read_json('data/negated_tf_questions.json')"
   ]
  },
  {
   "cell_type": "code",
   "execution_count": 8,
   "id": "33143a30",
   "metadata": {},
   "outputs": [
    {
     "data": {
      "text/html": [
       "<div>\n",
       "<style scoped>\n",
       "    .dataframe tbody tr th:only-of-type {\n",
       "        vertical-align: middle;\n",
       "    }\n",
       "\n",
       "    .dataframe tbody tr th {\n",
       "        vertical-align: top;\n",
       "    }\n",
       "\n",
       "    .dataframe thead th {\n",
       "        text-align: right;\n",
       "    }\n",
       "</style>\n",
       "<table border=\"1\" class=\"dataframe\">\n",
       "  <thead>\n",
       "    <tr style=\"text-align: right;\">\n",
       "      <th></th>\n",
       "      <th>question</th>\n",
       "      <th>id</th>\n",
       "      <th>background</th>\n",
       "      <th>publish_time</th>\n",
       "      <th>close_time</th>\n",
       "      <th>tags</th>\n",
       "      <th>source_links</th>\n",
       "      <th>prediction_count</th>\n",
       "      <th>forecaster_count</th>\n",
       "      <th>answer</th>\n",
       "      <th>choices</th>\n",
       "      <th>status</th>\n",
       "      <th>qtype</th>\n",
       "      <th>crowd</th>\n",
       "    </tr>\n",
       "  </thead>\n",
       "  <tbody>\n",
       "    <tr>\n",
       "      <th>0</th>\n",
       "      <td>What will the end-of-day closing value for the...</td>\n",
       "      <td>G1</td>\n",
       "      <td>Outcome will be determined by the end-of-day c...</td>\n",
       "      <td>2015-09-01 13:49:29.860000+00:00</td>\n",
       "      <td>2016-01-01 17:00:01+00:00</td>\n",
       "      <td>[Finance, Economic Indicators]</td>\n",
       "      <td>[http://ftalphaville.ft.com/2015/08/17/2137329...</td>\n",
       "      <td>1549.0</td>\n",
       "      <td>385</td>\n",
       "      <td>D</td>\n",
       "      <td>[Less than 6.30, Between 6.30 and 6.35, inclus...</td>\n",
       "      <td>Resolved</td>\n",
       "      <td>mc</td>\n",
       "      <td>[{'timestamp': '2015-09-01 00:00:00+00:00', 'f...</td>\n",
       "    </tr>\n",
       "    <tr>\n",
       "      <th>1</th>\n",
       "      <td>How many seats will the Justice and Developmen...</td>\n",
       "      <td>G2</td>\n",
       "      <td>The Justice and Development Party (AKP) failed...</td>\n",
       "      <td>2015-09-01 13:54:25.050000+00:00</td>\n",
       "      <td>2015-11-01 22:00:20+00:00</td>\n",
       "      <td>[Elections and Referenda, Non-US Politics]</td>\n",
       "      <td>[http://www.al-monitor.com/pulse/originals/201...</td>\n",
       "      <td>567.0</td>\n",
       "      <td>194</td>\n",
       "      <td>A</td>\n",
       "      <td>[A majority, A plurality, Not a plurality]</td>\n",
       "      <td>Resolved</td>\n",
       "      <td>mc</td>\n",
       "      <td>[{'timestamp': '2015-09-01 00:00:00+00:00', 'f...</td>\n",
       "    </tr>\n",
       "    <tr>\n",
       "      <th>2</th>\n",
       "      <td>Will there be an initial public offering on ei...</td>\n",
       "      <td>G4</td>\n",
       "      <td>China suspended initial public offerings (IPOs...</td>\n",
       "      <td>2015-09-01 13:58:30.138000+00:00</td>\n",
       "      <td>2015-11-30 14:00:15+00:00</td>\n",
       "      <td>[Finance]</td>\n",
       "      <td>[http://atimes.com/2015/11/china-will-allow-su...</td>\n",
       "      <td>545.0</td>\n",
       "      <td>148</td>\n",
       "      <td>yes</td>\n",
       "      <td>[yes, no]</td>\n",
       "      <td>Resolved</td>\n",
       "      <td>t/f</td>\n",
       "      <td>[{'timestamp': '2015-09-01 00:00:00+00:00', 'f...</td>\n",
       "    </tr>\n",
       "    <tr>\n",
       "      <th>3</th>\n",
       "      <td>Will the Export-Import Bank of the United Stat...</td>\n",
       "      <td>G5</td>\n",
       "      <td>The Export-Import Bank's authorization expired...</td>\n",
       "      <td>2015-09-01 14:02:21.242000+00:00</td>\n",
       "      <td>2015-12-04 14:00:25+00:00</td>\n",
       "      <td>[Economic Policy, US Politics, US Policy]</td>\n",
       "      <td>[http://thehill.com/policy/finance/260118-week...</td>\n",
       "      <td>1000.0</td>\n",
       "      <td>379</td>\n",
       "      <td>yes</td>\n",
       "      <td>[yes, no]</td>\n",
       "      <td>Resolved</td>\n",
       "      <td>t/f</td>\n",
       "      <td>[{'timestamp': '2015-09-01 00:00:00+00:00', 'f...</td>\n",
       "    </tr>\n",
       "    <tr>\n",
       "      <th>4</th>\n",
       "      <td>Will a trilateral meeting take place between C...</td>\n",
       "      <td>G6</td>\n",
       "      <td>A trilateral meeting of leaders from China, Ja...</td>\n",
       "      <td>2015-09-01 14:04:41.470000+00:00</td>\n",
       "      <td>2015-12-31 23:00:11+00:00</td>\n",
       "      <td>[Foreign Policy]</td>\n",
       "      <td>[https://en.wikipedia.org/wiki/Li_Keqiang, htt...</td>\n",
       "      <td>946.0</td>\n",
       "      <td>385</td>\n",
       "      <td>no</td>\n",
       "      <td>[yes, no]</td>\n",
       "      <td>Resolved</td>\n",
       "      <td>t/f</td>\n",
       "      <td>[{'timestamp': '2015-09-01 00:00:00+00:00', 'f...</td>\n",
       "    </tr>\n",
       "  </tbody>\n",
       "</table>\n",
       "</div>"
      ],
      "text/plain": [
       "                                            question  id  \\\n",
       "0  What will the end-of-day closing value for the...  G1   \n",
       "1  How many seats will the Justice and Developmen...  G2   \n",
       "2  Will there be an initial public offering on ei...  G4   \n",
       "3  Will the Export-Import Bank of the United Stat...  G5   \n",
       "4  Will a trilateral meeting take place between C...  G6   \n",
       "\n",
       "                                          background  \\\n",
       "0  Outcome will be determined by the end-of-day c...   \n",
       "1  The Justice and Development Party (AKP) failed...   \n",
       "2  China suspended initial public offerings (IPOs...   \n",
       "3  The Export-Import Bank's authorization expired...   \n",
       "4  A trilateral meeting of leaders from China, Ja...   \n",
       "\n",
       "                      publish_time                 close_time  \\\n",
       "0 2015-09-01 13:49:29.860000+00:00  2016-01-01 17:00:01+00:00   \n",
       "1 2015-09-01 13:54:25.050000+00:00  2015-11-01 22:00:20+00:00   \n",
       "2 2015-09-01 13:58:30.138000+00:00  2015-11-30 14:00:15+00:00   \n",
       "3 2015-09-01 14:02:21.242000+00:00  2015-12-04 14:00:25+00:00   \n",
       "4 2015-09-01 14:04:41.470000+00:00  2015-12-31 23:00:11+00:00   \n",
       "\n",
       "                                         tags  \\\n",
       "0              [Finance, Economic Indicators]   \n",
       "1  [Elections and Referenda, Non-US Politics]   \n",
       "2                                   [Finance]   \n",
       "3   [Economic Policy, US Politics, US Policy]   \n",
       "4                            [Foreign Policy]   \n",
       "\n",
       "                                        source_links  prediction_count  \\\n",
       "0  [http://ftalphaville.ft.com/2015/08/17/2137329...            1549.0   \n",
       "1  [http://www.al-monitor.com/pulse/originals/201...             567.0   \n",
       "2  [http://atimes.com/2015/11/china-will-allow-su...             545.0   \n",
       "3  [http://thehill.com/policy/finance/260118-week...            1000.0   \n",
       "4  [https://en.wikipedia.org/wiki/Li_Keqiang, htt...             946.0   \n",
       "\n",
       "   forecaster_count answer                                            choices  \\\n",
       "0               385      D  [Less than 6.30, Between 6.30 and 6.35, inclus...   \n",
       "1               194      A         [A majority, A plurality, Not a plurality]   \n",
       "2               148    yes                                          [yes, no]   \n",
       "3               379    yes                                          [yes, no]   \n",
       "4               385     no                                          [yes, no]   \n",
       "\n",
       "     status qtype                                              crowd  \n",
       "0  Resolved    mc  [{'timestamp': '2015-09-01 00:00:00+00:00', 'f...  \n",
       "1  Resolved    mc  [{'timestamp': '2015-09-01 00:00:00+00:00', 'f...  \n",
       "2  Resolved   t/f  [{'timestamp': '2015-09-01 00:00:00+00:00', 'f...  \n",
       "3  Resolved   t/f  [{'timestamp': '2015-09-01 00:00:00+00:00', 'f...  \n",
       "4  Resolved   t/f  [{'timestamp': '2015-09-01 00:00:00+00:00', 'f...  "
      ]
     },
     "execution_count": 8,
     "metadata": {},
     "output_type": "execute_result"
    }
   ],
   "source": [
    "df1.head()"
   ]
  },
  {
   "cell_type": "code",
   "execution_count": 9,
   "id": "3fd7a1a3",
   "metadata": {},
   "outputs": [
    {
     "data": {
      "text/html": [
       "<div>\n",
       "<style scoped>\n",
       "    .dataframe tbody tr th:only-of-type {\n",
       "        vertical-align: middle;\n",
       "    }\n",
       "\n",
       "    .dataframe tbody tr th {\n",
       "        vertical-align: top;\n",
       "    }\n",
       "\n",
       "    .dataframe thead th {\n",
       "        text-align: right;\n",
       "    }\n",
       "</style>\n",
       "<table border=\"1\" class=\"dataframe\">\n",
       "  <thead>\n",
       "    <tr style=\"text-align: right;\">\n",
       "      <th></th>\n",
       "      <th>id</th>\n",
       "      <th>original</th>\n",
       "      <th>negated</th>\n",
       "    </tr>\n",
       "  </thead>\n",
       "  <tbody>\n",
       "    <tr>\n",
       "      <th>0</th>\n",
       "      <td>G1855</td>\n",
       "      <td>Before 4 June 2021, will the United Kingdom's ...</td>\n",
       "      <td>Before 4 June 2021, will the United Kingdom's ...</td>\n",
       "    </tr>\n",
       "    <tr>\n",
       "      <th>1</th>\n",
       "      <td>M6640</td>\n",
       "      <td>Will Joe Biden hold the office of US President...</td>\n",
       "      <td>Will Joe Biden not hold the office of US Presi...</td>\n",
       "    </tr>\n",
       "    <tr>\n",
       "      <th>2</th>\n",
       "      <td>M6644</td>\n",
       "      <td>Will Apple fail to deliver a new Mac Pro works...</td>\n",
       "      <td>Will Apple deliver a new Mac Pro workstation b...</td>\n",
       "    </tr>\n",
       "    <tr>\n",
       "      <th>3</th>\n",
       "      <td>C113</td>\n",
       "      <td>Will the Chinese military or other maritime se...</td>\n",
       "      <td>Will neither the Chinese military nor other ma...</td>\n",
       "    </tr>\n",
       "    <tr>\n",
       "      <th>4</th>\n",
       "      <td>G2288</td>\n",
       "      <td>Between 27 February 2022 and 27 August 2022, w...</td>\n",
       "      <td>Between 27 February 2022 and 27 August 2022, w...</td>\n",
       "    </tr>\n",
       "  </tbody>\n",
       "</table>\n",
       "</div>"
      ],
      "text/plain": [
       "      id                                           original  \\\n",
       "0  G1855  Before 4 June 2021, will the United Kingdom's ...   \n",
       "1  M6640  Will Joe Biden hold the office of US President...   \n",
       "2  M6644  Will Apple fail to deliver a new Mac Pro works...   \n",
       "3   C113  Will the Chinese military or other maritime se...   \n",
       "4  G2288  Between 27 February 2022 and 27 August 2022, w...   \n",
       "\n",
       "                                             negated  \n",
       "0  Before 4 June 2021, will the United Kingdom's ...  \n",
       "1  Will Joe Biden not hold the office of US Presi...  \n",
       "2  Will Apple deliver a new Mac Pro workstation b...  \n",
       "3  Will neither the Chinese military nor other ma...  \n",
       "4  Between 27 February 2022 and 27 August 2022, w...  "
      ]
     },
     "execution_count": 9,
     "metadata": {},
     "output_type": "execute_result"
    }
   ],
   "source": [
    "df2.head()"
   ]
  },
  {
   "cell_type": "code",
   "execution_count": 10,
   "id": "1749874d",
   "metadata": {},
   "outputs": [
    {
     "data": {
      "text/plain": [
       "(6532, 14)"
      ]
     },
     "execution_count": 10,
     "metadata": {},
     "output_type": "execute_result"
    }
   ],
   "source": [
    "df1.shape"
   ]
  },
  {
   "cell_type": "code",
   "execution_count": null,
   "id": "9afaa4f4",
   "metadata": {},
   "outputs": [],
   "source": []
  }
 ],
 "metadata": {
  "kernelspec": {
   "display_name": "Python 3 (ipykernel)",
   "language": "python",
   "name": "python3"
  },
  "language_info": {
   "codemirror_mode": {
    "name": "ipython",
    "version": 3
   },
   "file_extension": ".py",
   "mimetype": "text/x-python",
   "name": "python",
   "nbconvert_exporter": "python",
   "pygments_lexer": "ipython3",
   "version": "3.9.13"
  }
 },
 "nbformat": 4,
 "nbformat_minor": 5
}
