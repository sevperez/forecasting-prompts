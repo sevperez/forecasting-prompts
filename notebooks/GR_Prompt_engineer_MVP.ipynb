{
 "cells": [
  {
   "cell_type": "code",
   "execution_count": 166,
   "id": "3e60f355",
   "metadata": {},
   "outputs": [],
   "source": [
    "#Load environment variables from .env file - specifically \n",
    "from dotenv import load_dotenv, find_dotenv\n",
    "load_dotenv(find_dotenv())\n",
    "\n",
    "import os\n",
    "#for i in os.environ: print(i) ##test environment vars\n",
    "\n",
    "\n",
    "from langchain.llms import OpenAI\n",
    "from langchain.utilities import SerpAPIWrapper\n",
    "from langchain.agents import load_tools, initialize_agent\n",
    "from langchain import PromptTemplate\n",
    "\n",
    "from pprint import pprint as pp\n",
    "import numpy as np\n",
    "import pandas as pd\n",
    "pd.set_option('display.max_colwidth', 500)\n",
    "pd.set_option('display.max_rows', 100)\n",
    "from pprint import pprint\n",
    "import ast\n",
    "\n",
    "def displays(df, n = 5):\n",
    "    display(df.shape, df.head(n))"
   ]
  },
  {
   "cell_type": "markdown",
   "id": "e5f93c90",
   "metadata": {},
   "source": [
    "### LLM test"
   ]
  },
  {
   "cell_type": "code",
   "execution_count": 13,
   "id": "96bb9e0f",
   "metadata": {},
   "outputs": [
    {
     "data": {
      "text/plain": [
       "'\\n\\nI love to watch baseball games in the summer.'"
      ]
     },
     "execution_count": 13,
     "metadata": {},
     "output_type": "execute_result"
    }
   ],
   "source": [
    "llm = OpenAI(model = 'text-davinci-003', temperature = 0, verbose = True)\n",
    "\n",
    "llm(\"Give one sentence that includes the word baseball.\")"
   ]
  },
  {
   "cell_type": "markdown",
   "id": "142e3aa4",
   "metadata": {},
   "source": [
    "## Testing SerpApi"
   ]
  },
  {
   "cell_type": "code",
   "execution_count": 4,
   "id": "0bdf6e62",
   "metadata": {},
   "outputs": [],
   "source": [
    "tool_names = [\"serpapi\"]\n",
    "tools = load_tools(tool_names)"
   ]
  },
  {
   "cell_type": "code",
   "execution_count": 9,
   "id": "815727f9",
   "metadata": {},
   "outputs": [],
   "source": [
    "agent = initialize_agent(tools, llm, agent = \"zero-shot-react-description\", verbose = True)"
   ]
  },
  {
   "cell_type": "code",
   "execution_count": 11,
   "id": "5654add5",
   "metadata": {},
   "outputs": [
    {
     "name": "stdout",
     "output_type": "stream",
     "text": [
      "\n",
      "\n",
      "\u001b[1m> Entering new  chain...\u001b[0m\n",
      "\u001b[32;1m\u001b[1;3m I need to find out who is running for the election\n",
      "Action: Search\n",
      "Action Input: \"2024 US Presidential election candidates\"\u001b[0m\n",
      "Observation: \u001b[36;1m\u001b[1;3mFour years after a historically large number of candidates ran for president, the field for the 2024 campaign is getting crowded once more, ...\u001b[0m\n",
      "Thought:\u001b[32;1m\u001b[1;3m I need to research the candidates and their chances of winning\n",
      "Action: Search\n",
      "Action Input: \"2024 US Presidential election predictions\"\u001b[0m\n",
      "Observation: \u001b[36;1m\u001b[1;3mThe latest coverage of the 2024 presidential, House and Senate elections.\u001b[0m\n",
      "Thought:\u001b[32;1m\u001b[1;3m I now know the final answer\n",
      "Final Answer: It is too early to predict who will win the 2024 US Presidential election.\u001b[0m\n",
      "\n",
      "\u001b[1m> Finished chain.\u001b[0m\n"
     ]
    },
    {
     "data": {
      "text/plain": [
       "'It is too early to predict who will win the 2024 US Presidential election.'"
      ]
     },
     "execution_count": 11,
     "metadata": {},
     "output_type": "execute_result"
    }
   ],
   "source": [
    "agent.run(\"Who will win the 2024 US Presidential election?\")"
   ]
  },
  {
   "cell_type": "markdown",
   "id": "880ebe7c",
   "metadata": {},
   "source": [
    "# Langchain with Autocast"
   ]
  },
  {
   "cell_type": "code",
   "execution_count": 161,
   "id": "a82f9715",
   "metadata": {},
   "outputs": [],
   "source": [
    "# load autocast data\n",
    "keycols = [\n",
    "    \"id\",\n",
    "    \"question\",\n",
    "    \"choices\",\n",
    "    \"answer\"\n",
    "]\n",
    "# ac = pd.read_json(\"Data/Autocast/autocast/autocast_questions.json\") # original data\n",
    "ac = pd.read_csv(\"Data/Autocast/filtered_events.csv\") # coco's filtered data\n",
    "ac = ac[\n",
    "#         (ac['choices'].notna()) &\n",
    "        (ac['status'] == 'Active')\n",
    "#         (ac['status'] == 'Resolved')\n",
    "][keycols]"
   ]
  },
  {
   "cell_type": "code",
   "execution_count": 167,
   "id": "59af827c",
   "metadata": {},
   "outputs": [],
   "source": [
    "# add letters to multiple choice choices, convert to dict\n",
    "def clean_choices(choices):\n",
    "    if pd.notna(choices):\n",
    "        choices = ast.literal_eval(choices)\n",
    "        letters = [\"A\", \"B\", \"C\", \"D\", \"E\", \"F\", \"G\", \"H\", \"I\", \"J\", \"K\"]\n",
    "        choices_dict = zip(letters[:len(choices)], choices)\n",
    "        return dict(choices_dict)\n",
    "    else:\n",
    "        return choices\n",
    "\n",
    "ac['choices'] = ac['choices'].apply(clean_choices)"
   ]
  },
  {
   "cell_type": "code",
   "execution_count": 182,
   "id": "1b70a228",
   "metadata": {
    "scrolled": true
   },
   "outputs": [
    {
     "data": {
      "text/plain": [
       "(62, 4)"
      ]
     },
     "metadata": {},
     "output_type": "display_data"
    },
    {
     "data": {
      "text/html": [
       "<div>\n",
       "<style scoped>\n",
       "    .dataframe tbody tr th:only-of-type {\n",
       "        vertical-align: middle;\n",
       "    }\n",
       "\n",
       "    .dataframe tbody tr th {\n",
       "        vertical-align: top;\n",
       "    }\n",
       "\n",
       "    .dataframe thead th {\n",
       "        text-align: right;\n",
       "    }\n",
       "</style>\n",
       "<table border=\"1\" class=\"dataframe\">\n",
       "  <thead>\n",
       "    <tr style=\"text-align: right;\">\n",
       "      <th></th>\n",
       "      <th>id</th>\n",
       "      <th>question</th>\n",
       "      <th>choices</th>\n",
       "      <th>answer</th>\n",
       "    </tr>\n",
       "  </thead>\n",
       "  <tbody>\n",
       "    <tr>\n",
       "      <th>0</th>\n",
       "      <td>M3191</td>\n",
       "      <td>What will the BLS report as the US civilian labor force participation rate (total including all ethnicities, 16 and older) for October 2030?</td>\n",
       "      <td>NaN</td>\n",
       "      <td>NaN</td>\n",
       "    </tr>\n",
       "    <tr>\n",
       "      <th>5</th>\n",
       "      <td>M4967</td>\n",
       "      <td>This question asks, what will be the real median household income in the United States in 2030, in dollars?</td>\n",
       "      <td>NaN</td>\n",
       "      <td>NaN</td>\n",
       "    </tr>\n",
       "    <tr>\n",
       "      <th>36</th>\n",
       "      <td>M5865</td>\n",
       "      <td>Longbets series: will the annual rate of US labor productivity growth for the year 2025, as measured by the U.S. Bureau of Labor Statistics, be 2 percent or above?</td>\n",
       "      <td>{'A': 'yes', 'B': 'no'}</td>\n",
       "      <td>NaN</td>\n",
       "    </tr>\n",
       "    <tr>\n",
       "      <th>37</th>\n",
       "      <td>M5866</td>\n",
       "      <td>Longbets series: will the June, 2025 Labor Force Participation Rate and unemployment rate, reported by the US Bureau of Labor Statistics, be, respectively above 60 percent and below 7.5 percent?</td>\n",
       "      <td>{'A': 'yes', 'B': 'no'}</td>\n",
       "      <td>NaN</td>\n",
       "    </tr>\n",
       "    <tr>\n",
       "      <th>38</th>\n",
       "      <td>M5867</td>\n",
       "      <td>What will US house prices be at the end of 2030?</td>\n",
       "      <td>NaN</td>\n",
       "      <td>NaN</td>\n",
       "    </tr>\n",
       "  </tbody>\n",
       "</table>\n",
       "</div>"
      ],
      "text/plain": [
       "       id   \n",
       "0   M3191  \\\n",
       "5   M4967   \n",
       "36  M5865   \n",
       "37  M5866   \n",
       "38  M5867   \n",
       "\n",
       "                                                                                                                                                                                              question   \n",
       "0                                                         What will the BLS report as the US civilian labor force participation rate (total including all ethnicities, 16 and older) for October 2030?  \\\n",
       "5                                                                                          This question asks, what will be the real median household income in the United States in 2030, in dollars?   \n",
       "36                                 Longbets series: will the annual rate of US labor productivity growth for the year 2025, as measured by the U.S. Bureau of Labor Statistics, be 2 percent or above?   \n",
       "37  Longbets series: will the June, 2025 Labor Force Participation Rate and unemployment rate, reported by the US Bureau of Labor Statistics, be, respectively above 60 percent and below 7.5 percent?   \n",
       "38                                                                                                                                                    What will US house prices be at the end of 2030?   \n",
       "\n",
       "                    choices answer  \n",
       "0                       NaN    NaN  \n",
       "5                       NaN    NaN  \n",
       "36  {'A': 'yes', 'B': 'no'}    NaN  \n",
       "37  {'A': 'yes', 'B': 'no'}    NaN  \n",
       "38                      NaN    NaN  "
      ]
     },
     "metadata": {},
     "output_type": "display_data"
    }
   ],
   "source": [
    "# view key columns\n",
    "displays(ac)"
   ]
  },
  {
   "cell_type": "code",
   "execution_count": 172,
   "id": "138bd109",
   "metadata": {
    "scrolled": true
   },
   "outputs": [
    {
     "name": "stdout",
     "output_type": "stream",
     "text": [
      "Question:\n",
      "\n",
      "Longbets series: will the annual rate of US labor productivity growth for the year 2025, as measured by the U.S. Bureau of Labor Statistics, be 2 percent or above? {'A': 'yes', 'B': 'no'}\n"
     ]
    }
   ],
   "source": [
    "# sample a question using question ID\n",
    "ac_id = \"M5865\"\n",
    "ac_filterid = ac[ac['id'] == ac_id]\n",
    "autocast_question = ac_filterid['question'].astype(str).values[0] + ' ' + ac_filterid['choices'].astype(str).values[0]\n",
    "print(f\"Question:\\n\\n{autocast_question}\")"
   ]
  },
  {
   "cell_type": "code",
   "execution_count": 178,
   "id": "973653a5",
   "metadata": {
    "scrolled": true
   },
   "outputs": [],
   "source": [
    "# Create prompt template\n",
    "\n",
    "prefix = \"\"\"You are an expert LLM prompt engineer. Your job is to take\n",
    "in a simple forecasting question, which may not provide enough context\n",
    "and examples for the LLM to answer adequately, and to output a prompt\n",
    "that is optimized for querying an LLM for a response with maximum\n",
    "accuracy.\n",
    "\n",
    "The tools you have at your disposal are the following:\n",
    "\n",
    "Search: A Google search engine API. It is useful when you need to provide\n",
    "context and examples about current events.\n",
    "\n",
    "Wikipedia: A search engine. Useful for when you need to answer questions about current\n",
    "events. Input should be a search query.\n",
    "\n",
    "Use the following format:\"\"\"\n",
    "\n",
    "\n",
    "\n",
    "format_instructions = \"\"\"\n",
    "Question: the input question you must prompt engineer.\n",
    "It will be provided in multiple choice format.\n",
    "\n",
    "Thought: you should always think about what to do.\n",
    "\n",
    "Action: the action to take. It should be one of [Search, Wikipedia].\n",
    "\n",
    "Action Input: the input to the action\n",
    "Observation: the result of the action\n",
    "... (this Thought/Action/Action Input/Observation can repeat N times)\n",
    "Thought: I now know the final answer\n",
    "Final Answer: the final answer\n",
    "\n",
    "Your final answer should provide context and examples on\n",
    "the question's topic(s) to optimize the prompt. Provide at least 1\n",
    "sentence of context and 1 example, but you can provide more at your\n",
    "discretion. Your examples must include a question and multiple choice options.\n",
    "\n",
    "The question should be the original question from the question provided\n",
    "to you. The engineered prompt should be in the following format:\n",
    "\n",
    "Here is context for the question: (context)\n",
    "\n",
    "Here are example(s) for the question: (examples)\n",
    "\n",
    "Here is the question: (the original input question you've been asked)\n",
    "\n",
    "Here is an example of what the pipeline should look like:\n",
    "\n",
    "Question: Who will win the 2024 US presidential election?\n",
    "\n",
    "A: Joe Biden,\n",
    "B: Donald Trump,\n",
    "C: Pete Buttigieg,\n",
    "D: Ron DeSantis\n",
    "\n",
    "Final Answer:\n",
    "\n",
    "Here is context for the question: The US presidential election\n",
    "is held every 4 years. The United States is a country founded in\n",
    "1776 which holds democratic elections.\n",
    "\n",
    "Here are example(s) similar to this question:\n",
    "\n",
    "Who will win the 2020 US presidential election?\n",
    "\n",
    "A: Joe Biden\n",
    "B: Donald Trump\n",
    "C: Bernie Sanders\n",
    "D: Jeb Bush\n",
    "\n",
    "Here is the question:\n",
    "\n",
    "Who will win the 2024 US presidential election?\n",
    "\n",
    "A: Joe Biden,\n",
    "B: Donald Trump,\n",
    "C: Pete Buttigieg,\n",
    "D: Ron DeSantis\n",
    "\n",
    "\"\"\"\n",
    "\n",
    "suffix = \"\"\"\n",
    "Begin!\n",
    "Question: {input}\n",
    "Thought:{agent_scratchpad}\n",
    "\"\"\"\n",
    "\n",
    "# prompt = PromptTemplate(autocast_question = [autocast_question],\n",
    "#                         template = template,\n",
    "#                         )\n",
    "\n",
    "\n",
    "# llm(prompt.format(prompt = prompt))"
   ]
  },
  {
   "cell_type": "code",
   "execution_count": 179,
   "id": "a81dcc24",
   "metadata": {},
   "outputs": [],
   "source": [
    "### initialize LLM, tools, agent\n",
    "# llm\n",
    "llm = OpenAI(model = 'text-davinci-003',\n",
    "             temperature = 0,\n",
    "             verbose = True)\n",
    "\n",
    "# tools\n",
    "tool_names = [\"serpapi\", \"wikipedia\"]\n",
    "tools = load_tools(tool_names, llm = llm)\n",
    "\n",
    "# agent\n",
    "agent = initialize_agent(tools,\n",
    "                         llm,\n",
    "                         agent = \"zero-shot-react-description\",\n",
    "                         verbose = True,\n",
    "                         agent_kwargs={\n",
    "                                'prefix':prefix,\n",
    "                                'format_instructions':format_instructions,\n",
    "                                'suffix':suffix\n",
    "                        })"
   ]
  },
  {
   "cell_type": "code",
   "execution_count": null,
   "id": "6eebaf86",
   "metadata": {},
   "outputs": [],
   "source": [
    "# agent.run(autocast_question)"
   ]
  },
  {
   "cell_type": "markdown",
   "id": "8abdb8d0",
   "metadata": {},
   "source": [
    "### Question ID M5865"
   ]
  },
  {
   "cell_type": "code",
   "execution_count": 180,
   "id": "23caf1e0",
   "metadata": {
    "scrolled": false
   },
   "outputs": [
    {
     "name": "stdout",
     "output_type": "stream",
     "text": [
      "ID: M5865\n",
      "\n",
      "Question:\n",
      "\n",
      "Longbets series: will the annual rate of US labor productivity growth for the year 2025, as measured by the U.S. Bureau of Labor Statistics, be 2 percent or above? {'A': 'yes', 'B': 'no'}\n"
     ]
    }
   ],
   "source": [
    "# note: this question is active and in the future\n",
    "print(f\"ID: {ac_id}\")\n",
    "print(f\"\\nQuestion:\\n\\n{autocast_question}\")"
   ]
  },
  {
   "cell_type": "code",
   "execution_count": 181,
   "id": "9b74a0ad",
   "metadata": {
    "scrolled": true
   },
   "outputs": [
    {
     "name": "stdout",
     "output_type": "stream",
     "text": [
      "\n",
      "\n",
      "\u001b[1m> Entering new  chain...\u001b[0m\n",
      "\u001b[32;1m\u001b[1;3mI need to provide context and examples to help the LLM understand the question.\n",
      "Action: Search\n",
      "Action Input: US labor productivity growth\u001b[0m\n",
      "Observation: \u001b[36;1m\u001b[1;3mTotal factor productivity decreases 1.2% in 2022, following a 4.0% increase in 2021. 03/23/2023 · Total factor productivity increased in 15 out of 21 major ...\u001b[0m\n",
      "Thought:\u001b[32;1m\u001b[1;3mI need to provide more examples to help the LLM understand the question.\n",
      "Action: Wikipedia\n",
      "Action Input: US labor productivity growth\u001b[0m\n",
      "Observation: \u001b[33;1m\u001b[1;3mPage: Productivity\n",
      "Summary: Productivity is the efficiency of production of goods or services expressed by some measure. Measurements of productivity are often expressed as a ratio of an aggregate output to a single input or an aggregate input used in a production process, i.e. output per unit of input, typically over a specific period of time. The most common example is the (aggregate) labour productivity measure, one example of which is GDP per worker. There are many different definitions of productivity (including those that are not defined as ratios of output to input) and the choice among them depends on the purpose of the productivity measurement and data availability. The key source of difference between various productivity measures is also usually related (directly or indirectly) to how the outputs and the inputs are aggregated to obtain such a ratio-type measure of productivity.Productivity is a crucial factor in the production performance of firms and nations. Increasing national productivity can raise living standards because more real income improves people's ability to purchase goods and services, enjoy leisure, improve housing, and education and contribute to social and environmental programs. Productivity growth can also help businesses to be more profitable.\n",
      "\n",
      "\n",
      "\n",
      "Page: Productivity paradox\n",
      "Summary: The productivity paradox, also referred to as the Solow paradox, could refer either to the slowdown in productivity growth in the United States in the 1970s and 1980s despite rapid development in the field of information technology (IT) over the same period, or to the slowdown in productivity growth in the United States and developed countries from the 2000s to 2020s; sometimes the newer slowdown is referred to as the productivity slowdown, the productivity puzzle, or  the productivity paradox 2.0. The 1970s to 1980s productivity paradox inspired many research efforts at explaining the slowdown, only for the paradox to disappear with renewed productivity growth in the developed countries in the 1990s. However, issues raised by those research efforts remain important in the study of productivity growth in general, and became important again when productivity growth slowed around the world again from the 2000s to the present day.\n",
      "\n",
      "\n",
      "\n",
      "Page: Baumol effect\n",
      "Summary: In economics, the Baumol effect, also known as Baumol's cost disease, is the rise of wages in jobs that have experienced little or no increase in labor productivity, in response to rising salaries in other jobs that have experienced higher productivity growth. The phenomenon was described by William J. Baumol and William G. Bowen in the 1960s and is an example of cross elasticity of demand.\n",
      "The rise of wages in jobs without productivity gains derives from the requirement to compete for workers with jobs that have experienced productivity gains and so can naturally pay higher salaries, just as classical economics predicts. For instance, if the retail sector pays its managers low wages, they may decide to quit and get jobs in the automobile sector, where wages are higher because of higher labor productivity. Thus, retail managers' salaries increase not due to labor productivity increases in the retail sector,  but due to productivity and corresponding wage increases in other industries.\u001b[0m\n",
      "Thought:\u001b[32;1m\u001b[1;3mI now know the final answer.\n",
      "Final Answer:\n",
      "\n",
      "Here is context for the question: The US Bureau of Labor Statistics measures labor productivity growth annually. This measure is important for understanding the economic health of the country.\n",
      "\n",
      "Here are example(s) similar to this question:\n",
      "\n",
      "What was the annual rate of US labor productivity growth in 2020?\n",
      "\n",
      "A: 0.3%\n",
      "B: 1.2%\n",
      "C: 2.5%\n",
      "D: 4.0%\n",
      "\n",
      "Here is the question:\n",
      "\n",
      "Longbets series: will the annual rate of US labor productivity growth for the year 2025, as measured by the U.S. Bureau of Labor Statistics, be 2 percent or above?\n",
      "\n",
      "A: yes\n",
      "B: no\u001b[0m\n",
      "\n",
      "\u001b[1m> Finished chain.\u001b[0m\n"
     ]
    },
    {
     "data": {
      "text/plain": [
       "'Here is context for the question: The US Bureau of Labor Statistics measures labor productivity growth annually. This measure is important for understanding the economic health of the country.\\n\\nHere are example(s) similar to this question:\\n\\nWhat was the annual rate of US labor productivity growth in 2020?\\n\\nA: 0.3%\\nB: 1.2%\\nC: 2.5%\\nD: 4.0%\\n\\nHere is the question:\\n\\nLongbets series: will the annual rate of US labor productivity growth for the year 2025, as measured by the U.S. Bureau of Labor Statistics, be 2 percent or above?\\n\\nA: yes\\nB: no'"
      ]
     },
     "execution_count": 181,
     "metadata": {},
     "output_type": "execute_result"
    }
   ],
   "source": [
    "# run agent\n",
    "agent.run(autocast_question)"
   ]
  },
  {
   "cell_type": "markdown",
   "id": "2dc420e2",
   "metadata": {},
   "source": [
    "### Question ID G1"
   ]
  },
  {
   "cell_type": "code",
   "execution_count": 144,
   "id": "e9444707",
   "metadata": {},
   "outputs": [
    {
     "name": "stdout",
     "output_type": "stream",
     "text": [
      "Question:\n",
      "\n",
      "What will the end-of-day closing value for the dollar against the renminbi be on 1 January 2016? {'A': 'Less than 6.30', 'B': 'Between 6.30 and 6.35, inclusive', 'C': 'More than 6.35 but less than 6.40', 'D': '6.40 or more'}\n"
     ]
    }
   ],
   "source": [
    "# id = G1 (note: this question is already resolved)\n",
    "print(f\"Question:\\n\\n{autocast_question}\")"
   ]
  },
  {
   "cell_type": "code",
   "execution_count": 143,
   "id": "e30f4b71",
   "metadata": {
    "scrolled": false
   },
   "outputs": [
    {
     "name": "stdout",
     "output_type": "stream",
     "text": [
      "\n",
      "\n",
      "\u001b[1m> Entering new  chain...\u001b[0m\n",
      "\u001b[32;1m\u001b[1;3mI need to find out the current exchange rate between the dollar and the renminbi.\n",
      "Action: Search\n",
      "Action Input: Exchange rate between dollar and renminbi\u001b[0m\n",
      "Observation: \u001b[36;1m\u001b[1;3mConvert Chinese Yuan Renminbi to US Dollar ; 1 CNY, 0.139287 USD ; 5 CNY, 0.696433 USD ; 10 CNY, 1.39287 USD ; 25 CNY, 3.48217 USD.\u001b[0m\n",
      "Thought:\u001b[32;1m\u001b[1;3mI need to find out the historical exchange rate between the dollar and the renminbi.\n",
      "Action: Search\n",
      "Action Input: Historical exchange rate between dollar and renminbi\u001b[0m\n",
      "Observation: \u001b[36;1m\u001b[1;3mTable of 1 US Dollar to Chinese Yuan Exchange Rate: Updated: 22/06/23 05:45. Date, US Dollar to Chinese Yuan, Link. Wednesday 21 June 2023, 1 USD = 7.1798 ...\u001b[0m\n",
      "Thought:\u001b[32;1m\u001b[1;3mI now know the final answer\n",
      "Final Answer:\n",
      "\n",
      "Here is context for the question: The exchange rate between the US dollar and the Chinese renminbi is an important indicator of the relative strength of the two currencies.\n",
      "\n",
      "Here are example(s) similar to this question:\n",
      "\n",
      "What was the end-of-day closing value for the dollar against the renminbi on 15 June 2023?\n",
      "A: Less than 7.15\n",
      "B: Between 7.15 and 7.20, inclusive\n",
      "C: More than 7.20 but less than 7.25\n",
      "D: 7.25 or more\n",
      "\n",
      "Here is the question:\n",
      "\n",
      "What will the end-of-day closing value for the dollar against the renminbi be on 1 January 2016?\n",
      "A: Less than 6.30\n",
      "B: Between 6.30 and 6.35, inclusive\n",
      "C: More than 6.35 but less than 6.40\n",
      "D: 6.40 or more\u001b[0m\n",
      "\n",
      "\u001b[1m> Finished chain.\u001b[0m\n"
     ]
    },
    {
     "data": {
      "text/plain": [
       "'Here is context for the question: The exchange rate between the US dollar and the Chinese renminbi is an important indicator of the relative strength of the two currencies.\\n\\nHere are example(s) similar to this question:\\n\\nWhat was the end-of-day closing value for the dollar against the renminbi on 15 June 2023?\\nA: Less than 7.15\\nB: Between 7.15 and 7.20, inclusive\\nC: More than 7.20 but less than 7.25\\nD: 7.25 or more\\n\\nHere is the question:\\n\\nWhat will the end-of-day closing value for the dollar against the renminbi be on 1 January 2016?\\nA: Less than 6.30\\nB: Between 6.30 and 6.35, inclusive\\nC: More than 6.35 but less than 6.40\\nD: 6.40 or more'"
      ]
     },
     "execution_count": 143,
     "metadata": {},
     "output_type": "execute_result"
    }
   ],
   "source": [
    "# run agent\n",
    "agent.run(autocast_question)"
   ]
  },
  {
   "cell_type": "code",
   "execution_count": null,
   "id": "06f05626",
   "metadata": {},
   "outputs": [],
   "source": []
  }
 ],
 "metadata": {
  "kernelspec": {
   "display_name": "Python 3 (ipykernel)",
   "language": "python",
   "name": "python3"
  },
  "language_info": {
   "codemirror_mode": {
    "name": "ipython",
    "version": 3
   },
   "file_extension": ".py",
   "mimetype": "text/x-python",
   "name": "python",
   "nbconvert_exporter": "python",
   "pygments_lexer": "ipython3",
   "version": "3.10.10"
  }
 },
 "nbformat": 4,
 "nbformat_minor": 5
}
