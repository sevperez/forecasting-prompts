{
 "cells": [
  {
   "cell_type": "markdown",
   "metadata": {},
   "source": [
    "# 2.1 - Model Evaluation\n",
    "\n",
    "In this notebook, we conduct baseline and enriched pipeline evaluation on the filtered dataset."
   ]
  },
  {
   "cell_type": "markdown",
   "metadata": {},
   "source": [
    "## Setup"
   ]
  },
  {
   "cell_type": "markdown",
   "metadata": {},
   "source": [
    "### Libraries"
   ]
  },
  {
   "cell_type": "code",
   "execution_count": 9,
   "metadata": {},
   "outputs": [],
   "source": [
    "# utility\n",
    "from datetime import datetime\n",
    "from dotenv import load_dotenv\n",
    "import os\n",
    "import re\n",
    "from tqdm import tqdm\n",
    "\n",
    "# langchain\n",
    "from langchain.prompts.chat import (\n",
    "    ChatPromptTemplate,\n",
    "    SystemMessagePromptTemplate,\n",
    "    HumanMessagePromptTemplate,\n",
    ")\n",
    "from langchain.chat_models import AzureChatOpenAI\n",
    "from langchain.schema import AIMessage, HumanMessage, SystemMessage\n",
    "\n",
    "# data manipulation\n",
    "import pandas as pd\n",
    "import numpy as np\n",
    "\n",
    "# visualization\n",
    "import matplotlib.pyplot as plt\n",
    "import seaborn as sns"
   ]
  },
  {
   "cell_type": "code",
   "execution_count": 10,
   "metadata": {},
   "outputs": [
    {
     "data": {
      "text/plain": [
       "True"
      ]
     },
     "execution_count": 10,
     "metadata": {},
     "output_type": "execute_result"
    }
   ],
   "source": [
    "# load environment variables\n",
    "load_dotenv(\"../.env\")"
   ]
  },
  {
   "cell_type": "code",
   "execution_count": 11,
   "metadata": {},
   "outputs": [],
   "source": [
    "OPENAI_API_TYPE = os.environ[\"OPENAI_API_TYPE\"]\n",
    "OPENAI_API_VERSION = os.environ[\"OPENAI_API_VERSION\"]\n",
    "OPENAI_API_BASE = os.environ[\"OPENAI_API_BASE\"]\n",
    "OPENAI_API_KEY = os.environ[\"OPENAI_API_KEY\"]\n",
    "DEPLOYMENT_NAME = os.environ[\"DEPLOYMENT_NAME\"]\n",
    "MODEL_NAME = \"gpt-35-turbo\""
   ]
  },
  {
   "cell_type": "markdown",
   "metadata": {},
   "source": [
    "### Data\n",
    "\n",
    "Load the filtered version of the Autocast dataset."
   ]
  },
  {
   "cell_type": "code",
   "execution_count": 12,
   "metadata": {},
   "outputs": [],
   "source": [
    "DATA_DIR = \"../data\"\n",
    "DATA_FILE_NAME = \"test_df_latest.json\"\n",
    "DATA_PATH = os.path.join(DATA_DIR, DATA_FILE_NAME)"
   ]
  },
  {
   "cell_type": "code",
   "execution_count": 13,
   "metadata": {},
   "outputs": [],
   "source": [
    "def build_file_name(df, description=None):\n",
    "    current_time = datetime.now().strftime(\"%Y-%m-%d-%H-%M-%S\")\n",
    "    df_size = df.shape[0]\n",
    "    file_name = f\"test_df-{current_time}-size_{df_size}\"\n",
    "    \n",
    "    if description is not None:\n",
    "        file_name += f\"-{description}\"\n",
    "    \n",
    "    file_ext = \".json\"\n",
    "    file_name += file_ext\n",
    "    \n",
    "    return file_name\n",
    "\n",
    "def save_test_df(df, file_name=None, data_dir=DATA_DIR, description=None):\n",
    "    if file_name is None:\n",
    "        file_name = build_file_name(df, description)\n",
    "    \n",
    "    file_path = os.path.join(data_dir, file_name)\n",
    "    \n",
    "    df.to_json(file_path, orient=\"records\", lines=True)\n",
    "    print(f\"Saved test dataframe to: {file_path}\")"
   ]
  },
  {
   "cell_type": "code",
   "execution_count": 14,
   "metadata": {},
   "outputs": [],
   "source": [
    "test_df = pd.read_json(DATA_PATH, orient=\"records\", lines=True)"
   ]
  },
  {
   "cell_type": "code",
   "execution_count": 15,
   "metadata": {},
   "outputs": [
    {
     "name": "stdout",
     "output_type": "stream",
     "text": [
      "Test dataframe shape: (98, 27)\n",
      "\n",
      "<class 'pandas.core.frame.DataFrame'>\n",
      "RangeIndex: 98 entries, 0 to 97\n",
      "Data columns (total 27 columns):\n",
      " #   Column                          Non-Null Count  Dtype              \n",
      "---  ------                          --------------  -----              \n",
      " 0   question                        98 non-null     object             \n",
      " 1   id                              98 non-null     object             \n",
      " 2   background                      98 non-null     object             \n",
      " 3   publish_time                    98 non-null     datetime64[ns]     \n",
      " 4   close_time                      98 non-null     datetime64[ns, UTC]\n",
      " 5   tags                            98 non-null     object             \n",
      " 6   source_links                    98 non-null     object             \n",
      " 7   prediction_count                98 non-null     int64              \n",
      " 8   forecaster_count                98 non-null     int64              \n",
      " 9   answer                          0 non-null      float64            \n",
      " 10  choices                         98 non-null     object             \n",
      " 11  status                          98 non-null     object             \n",
      " 12  qtype                           98 non-null     object             \n",
      " 13  crowd                           98 non-null     object             \n",
      " 14  avg_pred                        98 non-null     float64            \n",
      " 15  median_pred                     98 non-null     float64            \n",
      " 16  majority_pred                   98 non-null     float64            \n",
      " 17  pred_taken                      98 non-null     float64            \n",
      " 18  acceptable_pred_lower_boundary  98 non-null     float64            \n",
      " 19  acceptable_pred_upper_boundary  98 non-null     float64            \n",
      " 20  context                         98 non-null     object             \n",
      " 21  examples                        98 non-null     object             \n",
      " 22  best_example                    98 non-null     object             \n",
      " 23  lowest_uncertainty              98 non-null     int64              \n",
      " 24  highest_uncertainty             98 non-null     float64            \n",
      " 25  average_uncertainty             98 non-null     float64            \n",
      " 26  external_context                98 non-null     object             \n",
      "dtypes: datetime64[ns, UTC](1), datetime64[ns](1), float64(9), int64(3), object(13)\n",
      "memory usage: 20.8+ KB\n"
     ]
    }
   ],
   "source": [
    "print(f\"Test dataframe shape: {test_df.shape}\")\n",
    "print(\"\")\n",
    "\n",
    "test_df.info()"
   ]
  },
  {
   "cell_type": "code",
   "execution_count": 16,
   "metadata": {},
   "outputs": [
    {
     "data": {
      "text/html": [
       "<div>\n",
       "<style scoped>\n",
       "    .dataframe tbody tr th:only-of-type {\n",
       "        vertical-align: middle;\n",
       "    }\n",
       "\n",
       "    .dataframe tbody tr th {\n",
       "        vertical-align: top;\n",
       "    }\n",
       "\n",
       "    .dataframe thead th {\n",
       "        text-align: right;\n",
       "    }\n",
       "</style>\n",
       "<table border=\"1\" class=\"dataframe\">\n",
       "  <thead>\n",
       "    <tr style=\"text-align: right;\">\n",
       "      <th></th>\n",
       "      <th>question</th>\n",
       "      <th>id</th>\n",
       "      <th>background</th>\n",
       "      <th>publish_time</th>\n",
       "      <th>close_time</th>\n",
       "      <th>tags</th>\n",
       "      <th>source_links</th>\n",
       "      <th>prediction_count</th>\n",
       "      <th>forecaster_count</th>\n",
       "      <th>answer</th>\n",
       "      <th>...</th>\n",
       "      <th>pred_taken</th>\n",
       "      <th>acceptable_pred_lower_boundary</th>\n",
       "      <th>acceptable_pred_upper_boundary</th>\n",
       "      <th>context</th>\n",
       "      <th>examples</th>\n",
       "      <th>best_example</th>\n",
       "      <th>lowest_uncertainty</th>\n",
       "      <th>highest_uncertainty</th>\n",
       "      <th>average_uncertainty</th>\n",
       "      <th>external_context</th>\n",
       "    </tr>\n",
       "  </thead>\n",
       "  <tbody>\n",
       "    <tr>\n",
       "      <th>0</th>\n",
       "      <td>Will there be a complex coordinated terrorist ...</td>\n",
       "      <td>G2124</td>\n",
       "      <td>CCTAs are a major concern for law enforcement ...</td>\n",
       "      <td>2021-09-17 15:49:41.402</td>\n",
       "      <td>2022-09-01 07:01:00+00:00</td>\n",
       "      <td>[Society, Security and Conflict]</td>\n",
       "      <td>[]</td>\n",
       "      <td>340</td>\n",
       "      <td>111</td>\n",
       "      <td>NaN</td>\n",
       "      <td>...</td>\n",
       "      <td>0.05</td>\n",
       "      <td>-0.15</td>\n",
       "      <td>0.25</td>\n",
       "      <td>Entities:\\n- Complex coordinated terrorist att...</td>\n",
       "      <td>[{'example_question': 'Between 1 January 2018 ...</td>\n",
       "      <td>{'example_question': 'Will the government of C...</td>\n",
       "      <td>0</td>\n",
       "      <td>0.45</td>\n",
       "      <td>0.082</td>\n",
       "      <td>The United States remains in a heightened thre...</td>\n",
       "    </tr>\n",
       "    <tr>\n",
       "      <th>1</th>\n",
       "      <td>Before 1 September 2022, will Egypt, Ethiopia,...</td>\n",
       "      <td>G2125</td>\n",
       "      <td>Tensions between Egypt, Ethiopia, and Sudan co...</td>\n",
       "      <td>2021-09-17 15:49:44.237</td>\n",
       "      <td>2022-09-01 07:01:00+00:00</td>\n",
       "      <td>[Foreign Policy, Security and Conflict, Non-US...</td>\n",
       "      <td>[https://www.securitycouncilreport.org/whatsin...</td>\n",
       "      <td>166</td>\n",
       "      <td>59</td>\n",
       "      <td>NaN</td>\n",
       "      <td>...</td>\n",
       "      <td>0.05</td>\n",
       "      <td>-0.15</td>\n",
       "      <td>0.25</td>\n",
       "      <td>Entities:\\n- Egypt: a country in North Africa,...</td>\n",
       "      <td>[{'example_question': 'Will the EU amend its O...</td>\n",
       "      <td>{'example_question': 'Will either Turkey or Ru...</td>\n",
       "      <td>0</td>\n",
       "      <td>0.50</td>\n",
       "      <td>0.104</td>\n",
       "      <td>As of August 2021, the foreign ministers of Eg...</td>\n",
       "    </tr>\n",
       "    <tr>\n",
       "      <th>2</th>\n",
       "      <td>Before 1 January 2023, will the Taipei Economi...</td>\n",
       "      <td>G2141</td>\n",
       "      <td>Recent media reporting indicates discussions r...</td>\n",
       "      <td>2021-09-30 14:38:57.362</td>\n",
       "      <td>2023-01-01 08:01:00+00:00</td>\n",
       "      <td>[Foreign Policy, US Politics, Security and Con...</td>\n",
       "      <td>[]</td>\n",
       "      <td>188</td>\n",
       "      <td>51</td>\n",
       "      <td>NaN</td>\n",
       "      <td>...</td>\n",
       "      <td>0.16</td>\n",
       "      <td>-0.04</td>\n",
       "      <td>0.36</td>\n",
       "      <td>Entities:\\n- Taipei Economic and Cultural Repr...</td>\n",
       "      <td>[{'example_question': 'Between 18 October and ...</td>\n",
       "      <td>{'example_question': 'Will the New START treat...</td>\n",
       "      <td>0</td>\n",
       "      <td>0.35</td>\n",
       "      <td>0.040</td>\n",
       "      <td>The Taipei Economic and Cultural Representativ...</td>\n",
       "    </tr>\n",
       "  </tbody>\n",
       "</table>\n",
       "<p>3 rows × 27 columns</p>\n",
       "</div>"
      ],
      "text/plain": [
       "                                            question     id  \\\n",
       "0  Will there be a complex coordinated terrorist ...  G2124   \n",
       "1  Before 1 September 2022, will Egypt, Ethiopia,...  G2125   \n",
       "2  Before 1 January 2023, will the Taipei Economi...  G2141   \n",
       "\n",
       "                                          background            publish_time  \\\n",
       "0  CCTAs are a major concern for law enforcement ... 2021-09-17 15:49:41.402   \n",
       "1  Tensions between Egypt, Ethiopia, and Sudan co... 2021-09-17 15:49:44.237   \n",
       "2  Recent media reporting indicates discussions r... 2021-09-30 14:38:57.362   \n",
       "\n",
       "                 close_time  \\\n",
       "0 2022-09-01 07:01:00+00:00   \n",
       "1 2022-09-01 07:01:00+00:00   \n",
       "2 2023-01-01 08:01:00+00:00   \n",
       "\n",
       "                                                tags  \\\n",
       "0                   [Society, Security and Conflict]   \n",
       "1  [Foreign Policy, Security and Conflict, Non-US...   \n",
       "2  [Foreign Policy, US Politics, Security and Con...   \n",
       "\n",
       "                                        source_links  prediction_count  \\\n",
       "0                                                 []               340   \n",
       "1  [https://www.securitycouncilreport.org/whatsin...               166   \n",
       "2                                                 []               188   \n",
       "\n",
       "   forecaster_count  answer  ... pred_taken acceptable_pred_lower_boundary  \\\n",
       "0               111     NaN  ...       0.05                          -0.15   \n",
       "1                59     NaN  ...       0.05                          -0.15   \n",
       "2                51     NaN  ...       0.16                          -0.04   \n",
       "\n",
       "  acceptable_pred_upper_boundary  \\\n",
       "0                           0.25   \n",
       "1                           0.25   \n",
       "2                           0.36   \n",
       "\n",
       "                                             context  \\\n",
       "0  Entities:\\n- Complex coordinated terrorist att...   \n",
       "1  Entities:\\n- Egypt: a country in North Africa,...   \n",
       "2  Entities:\\n- Taipei Economic and Cultural Repr...   \n",
       "\n",
       "                                            examples  \\\n",
       "0  [{'example_question': 'Between 1 January 2018 ...   \n",
       "1  [{'example_question': 'Will the EU amend its O...   \n",
       "2  [{'example_question': 'Between 18 October and ...   \n",
       "\n",
       "                                        best_example  lowest_uncertainty  \\\n",
       "0  {'example_question': 'Will the government of C...                   0   \n",
       "1  {'example_question': 'Will either Turkey or Ru...                   0   \n",
       "2  {'example_question': 'Will the New START treat...                   0   \n",
       "\n",
       "   highest_uncertainty  average_uncertainty  \\\n",
       "0                 0.45                0.082   \n",
       "1                 0.50                0.104   \n",
       "2                 0.35                0.040   \n",
       "\n",
       "                                    external_context  \n",
       "0  The United States remains in a heightened thre...  \n",
       "1  As of August 2021, the foreign ministers of Eg...  \n",
       "2  The Taipei Economic and Cultural Representativ...  \n",
       "\n",
       "[3 rows x 27 columns]"
      ]
     },
     "execution_count": 16,
     "metadata": {},
     "output_type": "execute_result"
    }
   ],
   "source": [
    "test_df.head(3)"
   ]
  },
  {
   "cell_type": "markdown",
   "metadata": {},
   "source": [
    "### Filter Data"
   ]
  },
  {
   "cell_type": "code",
   "execution_count": 17,
   "metadata": {},
   "outputs": [],
   "source": [
    "def build_sample_df(df, qtypes=[\"t/f\", \"mc\"], n=100):\n",
    "    \"\"\"\n",
    "    Build a sample dataframe with a fixed number of samples per question type.\n",
    "    \"\"\"\n",
    "    sample_df = pd.DataFrame()\n",
    "    for qtype in qtypes:\n",
    "        sample_df = pd.concat([sample_df, df[df[\"qtype\"] == qtype].sample(n=n, random_state=1)])\n",
    "    sample_df = sample_df.sample(frac=1, random_state=1)\n",
    "    return sample_df\n",
    "\n",
    "def filter_df_by_vals(df: pd.DataFrame, filter_dict: dict) -> pd.DataFrame:\n",
    "    \"\"\"\n",
    "    Filters a dataframe based on a filter dictionary where the keys are dataframe\n",
    "    columns and the values are used to filter each column.\n",
    "\n",
    "    Args:\n",
    "        filter_dict (dict): filter dictionary\n",
    "        df (pd.DataFrame): dataframe\n",
    "    \"\"\"\n",
    "    df_filtered = df.copy()\n",
    "    for key, value in filter_dict.items():\n",
    "        df_filtered = df_filtered[df_filtered[key] == value]\n",
    "    return df_filtered\n",
    "\n",
    "def filter_df_by_tag(df: pd.DataFrame, tag_col: str, filter_tag: str) -> pd.DataFrame:\n",
    "    \"\"\"\n",
    "    Filters a dataframe based on whether filter_tag appears in the list of tags\n",
    "    located in tag_col.\n",
    "\n",
    "    Args:\n",
    "        tag_col (str): tag column\n",
    "        filter_tag (str): tag\n",
    "        df (pd.DataFrame): dataframe\n",
    "    \"\"\"\n",
    "    df_filtered = df.copy()\n",
    "    df_filtered = df_filtered[df_filtered[tag_col].apply(lambda x: filter_tag in x)]\n",
    "    return df_filtered"
   ]
  },
  {
   "cell_type": "code",
   "execution_count": 18,
   "metadata": {},
   "outputs": [
    {
     "name": "stdout",
     "output_type": "stream",
     "text": [
      "Test dataframe has shape: (98, 27)\n"
     ]
    }
   ],
   "source": [
    "# filter df so qtype column is only t/f or mc\n",
    "test_df = test_df[test_df[\"qtype\"].isin([\"t/f\", \"mc\"])]\n",
    "\n",
    "# filter for active questions only\n",
    "test_df = test_df[test_df[\"status\"] == \"Active\"]\n",
    "test_df = test_df[test_df[\"choices\"].notna()]\n",
    "\n",
    "# drop duplicates\n",
    "test_df = test_df.drop_duplicates(subset=['id', 'question'])\n",
    "\n",
    "# print shape\n",
    "print(f\"Test dataframe has shape: {test_df.shape}\")"
   ]
  },
  {
   "cell_type": "markdown",
   "metadata": {},
   "source": [
    "## Baseline\n",
    "\n",
    "We use Azure OpenAI services and a deployed GPT 3.5 chat completion model to generate predictions using a top K method."
   ]
  },
  {
   "cell_type": "code",
   "execution_count": 19,
   "metadata": {},
   "outputs": [],
   "source": [
    "def build_results_data_name(df, model_name: str = MODEL_NAME,  description: str = None):\n",
    "    \"\"\"\n",
    "    Builds a name for the results data file.\n",
    "\n",
    "    Args:\n",
    "        df (pandas.DataFrame): A dataframe with experiment results.\n",
    "        model_name (str): The name of the model.\n",
    "        description (str): A description of the results data.\n",
    "    \"\"\"\n",
    "    timestamp = datetime.now().strftime(\"%Y-%m-%d-%H-%M-%S\")\n",
    "    df_size = df.shape[0]\n",
    "    \n",
    "    save_name = f\"{model_name}_{timestamp}_results-{df_size}\"\n",
    "    \n",
    "    if description is not None:\n",
    "        save_name += f\"_{description}\"\n",
    "\n",
    "    extension = \"json\"\n",
    "    save_name += f\".{extension}\"\n",
    "    \n",
    "    return save_name\n",
    "\n",
    "def save_results_data_json(df, model_name=MODEL_NAME, data_dir=\"../data\", save_path=None):\n",
    "    \"\"\"\n",
    "    Saves a results dataframe to a JSON file.\n",
    "\n",
    "    Args:\n",
    "        df (pandas.DataFrame): A dataframe with experiment results.\n",
    "        model_name (str): The name of the model.\n",
    "        data_dir (str): The directory to save the JSON file to.\n",
    "        save_path (str): The path to save the JSON file to.\n",
    "    \"\"\"\n",
    "    if save_path is None:\n",
    "        save_name = build_results_data_name(df, model_name=model_name)\n",
    "        save_path = os.path.join(data_dir, save_name)\n",
    "        \n",
    "    df.to_json(save_path, orient=\"records\", indent=4)\n",
    "    print(f\"Saved results to: {save_path}\")\n",
    "\n",
    "def describe_question_row_by_idx(df, idx):\n",
    "    \"\"\"\n",
    "    Prints the question and choices for a given row in a dataframe.\n",
    "\n",
    "    Args:\n",
    "        df (pd.DataFrame): A dataframe of questions.\n",
    "        idx (int): The index of the row to describe.\n",
    "    \"\"\"\n",
    "    row = df.iloc[idx]\n",
    "    print(f\"Question:\\n{row['question']}\\n\")\n",
    "    \n",
    "    print(\"Choices:\")\n",
    "    for i, choice in enumerate(row[\"choices\"]):\n",
    "        print(f\"{chr(65 + i)} - {choice}\")\n",
    "    print(\"\")\n",
    "\n",
    "    print(\"Crowd:\")\n",
    "    print(f\"Majority: {row['majority_pred']}\")\n",
    "    \n",
    "    lower_bound = row['acceptable_pred_lower_boundary']\n",
    "    upper_bound = row['acceptable_pred_upper_boundary']\n",
    "    print(f\"Acceptable range: ({round(lower_bound, 3)}, {round(upper_bound, 3)})\")"
   ]
  },
  {
   "cell_type": "code",
   "execution_count": 20,
   "metadata": {},
   "outputs": [],
   "source": [
    "class Forecaster():\n",
    "    def __init__(self, chat, prompt: str):\n",
    "        \"\"\"\n",
    "        A class for forecasting answers to questions using a language model.\n",
    "\n",
    "        Args:\n",
    "            chat: A chat language model.\n",
    "            prompt (str): A prompt for the language model.\n",
    "        \"\"\"\n",
    "        self.chat = chat\n",
    "        self.prompt = prompt\n",
    "    \n",
    "    def format_choices(self, choices: list[str]):\n",
    "        \"\"\"\n",
    "        Accepts a list of choices and formats them for the language model\n",
    "        with a letter for each choice and one choice per line.\n",
    "\n",
    "        Args:\n",
    "            choices (list): A list of choices.\n",
    "        \"\"\"\n",
    "        formatted_choices = \"\\n\".join(\n",
    "            [f\"{chr(65 + idx)} - {choice}\" for idx, choice in enumerate(choices)]\n",
    "        )\n",
    "        return formatted_choices\n",
    "    \n",
    "    def valid_answer(self, answer: str):\n",
    "        \"\"\"\n",
    "        Returns True if the answer is valid, False otherwise.\n",
    "\n",
    "        Args:\n",
    "            answer (str): An answer.\n",
    "        \"\"\"\n",
    "        # invalid if answer is not a string or is None\n",
    "        if not isinstance(answer, str) or answer is None:\n",
    "            return False\n",
    "\n",
    "        # invalid if first character is not a letter\n",
    "        if not re.match(r\"[A-Z]\", answer[0]):\n",
    "            return False\n",
    "        \n",
    "        # invalid if second character is a letter\n",
    "        if len(answer) > 1 and re.match(r\"[A-Z]\", answer[1]):\n",
    "            return False\n",
    "        \n",
    "        return True\n",
    "    \n",
    "    def clean_answer(self, answer: str):\n",
    "        \"\"\"\n",
    "        If the answer is valid, returns just the first letter of the answer.\n",
    "        Converts a yes/no answer to a letter, where yes is A and no is B.\n",
    "        Returns None if the answer is not valid.\n",
    "\n",
    "        Args:\n",
    "            answer (str): An answer.\n",
    "        \"\"\"\n",
    "        if not self.valid_answer(answer):\n",
    "            return None\n",
    "        \n",
    "        answer = self.yes_no_to_letter(answer)\n",
    "\n",
    "        return answer[0]\n",
    "    \n",
    "    def idx_from_letter(self, letter: str):\n",
    "        \"\"\"\n",
    "        Converts a letter (A, B, C, etc.) to an index, where A is 0, \n",
    "        B is 1, and so on. Returns None if the letter is not valid.\n",
    "\n",
    "        Args:\n",
    "            letter (str): A letter.\n",
    "        \"\"\"\n",
    "        if letter is None:\n",
    "            return None\n",
    "        \n",
    "        letter = letter.upper()\n",
    "        letter = letter.strip()\n",
    "        letter = re.sub(r\"[^A-Z]\", \"\", letter)\n",
    "\n",
    "        # return None if letter is not valid\n",
    "        if len(letter) != 1 or ord(letter) < 65 or ord(letter) > 90:\n",
    "            return None\n",
    "\n",
    "        return int(ord(letter) - 65)\n",
    "    \n",
    "    def yes_no_to_letter(self, answer: str):\n",
    "        \"\"\"\n",
    "        Converts a yes/no answer to a letter, where yes is A and no is B.\n",
    "\n",
    "        Args:\n",
    "            answer (str): A yes/no answer.\n",
    "        \"\"\"\n",
    "        if answer is None:\n",
    "            return answer\n",
    "        elif answer.lower() == \"yes\" or answer.lower() == \"y\":\n",
    "            return \"A\"\n",
    "        elif answer.lower() == \"no\" or answer.lower() == \"n\":\n",
    "            return \"B\"\n",
    "        else:\n",
    "            return answer\n",
    "        \n",
    "    def get_llm_response(self, vars: dict):\n",
    "        \"\"\"\n",
    "        Returns a response from the language model in the form of a dictionary\n",
    "        with the original prediction and the cleaned predicted answer.\n",
    "\n",
    "        Args:\n",
    "            vars (dict): A dictionary with the question and choices.\n",
    "        \"\"\"\n",
    "        original_prediction = self.chat(\n",
    "            self.prompt.format_prompt(**vars).to_messages()\n",
    "        ).content\n",
    "\n",
    "        predicted_answer = self.clean_answer(original_prediction)\n",
    "        \n",
    "        return {\n",
    "            \"original_prediction\": original_prediction,\n",
    "            \"predicted_answer\": predicted_answer\n",
    "        }\n",
    "\n",
    "    def predict(self, question: str, choices: list[str]):\n",
    "        \"\"\"\n",
    "        Uses the language model to predict an answer to a question and returns\n",
    "        a dictionary with the question, choices, and predicted answer.\n",
    "\n",
    "        Args:\n",
    "            question (str): A question.\n",
    "            choices (list): A list of choices.\n",
    "        \"\"\"\n",
    "        vars = {\n",
    "            \"question\": question,\n",
    "            \"choices\": self.format_choices(choices),\n",
    "        }\n",
    "\n",
    "        try:\n",
    "            results = self.get_llm_response(vars)\n",
    "            original_prediction = results[\"original_prediction\"]\n",
    "            predicted_answer = results[\"predicted_answer\"]\n",
    "            predicted_answer_idx = self.idx_from_letter(predicted_answer)\n",
    "        except Exception as e:\n",
    "            print(e)\n",
    "            original_prediction = None\n",
    "            predicted_answer = None\n",
    "            predicted_answer_idx = None\n",
    "\n",
    "        if predicted_answer_idx is None or predicted_answer_idx >= len(choices):\n",
    "            predicted_answer = None\n",
    "            predicted_answer_text = None\n",
    "            predicted_answer_idx = None\n",
    "        else:\n",
    "            predicted_answer_text = choices[predicted_answer_idx]\n",
    "\n",
    "        response = {\n",
    "            \"question\": question,\n",
    "            \"choices\": choices,\n",
    "            \"original_prediction\": original_prediction,\n",
    "            \"predicted_answer\": predicted_answer,\n",
    "            \"predicted_answer_idx\": predicted_answer_idx,\n",
    "            \"predicted_answer_text\": predicted_answer_text\n",
    "        }\n",
    "\n",
    "        return response\n",
    "    \n",
    "    def predict_df(self, df: pd.DataFrame, id_col: str, question_col: str, choices_col: str):\n",
    "        \"\"\"\n",
    "        Uses the language model to predict answers to a dataframe of questions.\n",
    "        Returns a dataframe with the question id, question, choices, and predicted answer.\n",
    "\n",
    "        Args:\n",
    "            df (pd.DataFrame): A dataframe of questions.\n",
    "            id_col (str): The name of the column containing the question IDs.\n",
    "            question_col (str): The name of the column containing the questions.\n",
    "            choices_col (str): The name of the column containing the choices.\n",
    "        \"\"\"\n",
    "\n",
    "        predictions = []\n",
    "\n",
    "        for _, row in tqdm(df.iterrows(), total=df.shape[0]):\n",
    "            question = row[question_col]\n",
    "            choices = row[choices_col]\n",
    "            prediction = self.predict(question, choices)\n",
    "            prediction[id_col] = row[id_col]\n",
    "            predictions.append(prediction)\n",
    "\n",
    "        predictions_df = pd.DataFrame(predictions)\n",
    "\n",
    "        return predictions_df\n",
    "    \n",
    "class ForecasterTopK(Forecaster):\n",
    "    def __init__(self, chat, system_prompt: str, human_prompt: str, k: int = 10):\n",
    "        \"\"\"\n",
    "        A version of the Forecaster class that uses the top-k sampling method\n",
    "        for generating predictions.\n",
    "\n",
    "        Args:\n",
    "            chat: A chat language model.\n",
    "            system_prompt (str): A prompt for the language model.\n",
    "            human_prompt (str): A prompt for the language model.\n",
    "            k (int): The number of predictions to generate.\n",
    "        \"\"\"\n",
    "        self.chat = chat\n",
    "\n",
    "        self.system_prompt = system_prompt\n",
    "        self.human_prompt = human_prompt\n",
    "\n",
    "        self.k = k\n",
    "        self.chat.n = self.k\n",
    "\n",
    "    def get_llm_response(self, vars: dict):\n",
    "        \"\"\"\n",
    "        Returns a response from the language model in the form of a dictionary\n",
    "        with the original prediction and the cleaned predicted answer.\n",
    "\n",
    "        Args:\n",
    "            vars (dict): A dictionary with the question and choices.\n",
    "        \"\"\"\n",
    "\n",
    "        batch_messages = [\n",
    "            [\n",
    "                self.system_prompt.format_messages()[0],\n",
    "                self.human_prompt.format_messages(**vars)[0],\n",
    "            ],\n",
    "        ]\n",
    "        result = self.chat.generate(batch_messages)\n",
    "\n",
    "        original_prediction = [generation.text for generation in result.generations[0]]\n",
    "\n",
    "        predicted_answers = [self.clean_answer(prediction) \n",
    "                             for prediction in original_prediction]\n",
    "        \n",
    "        return {\n",
    "            \"original_prediction\": original_prediction,\n",
    "            \"top_k_predicted_answers\": predicted_answers,\n",
    "            \"predicted_answer\": self.majority_choice(predicted_answers)\n",
    "        }\n",
    "    \n",
    "    def majority_choice(self, predicted_answers: list[str]):\n",
    "        \"\"\"\n",
    "        Returns the majority choice from a list of predicted answers.\n",
    "\n",
    "        Args:\n",
    "            predicted_answers (list): A list of predicted answers.\n",
    "        \"\"\"\n",
    "        counts = {answer: 0 for answer in predicted_answers}\n",
    "        for answer in predicted_answers:\n",
    "            counts[answer] += 1\n",
    "        majority_answer = max(counts, key=counts.get)\n",
    "        return majority_answer\n",
    "\n",
    "    def predict(self, question: str, choices: list[str]):\n",
    "        \"\"\"\n",
    "        Uses the language model to predict an answer to a question and returns\n",
    "        a dictionary with the question, choices, and predicted answer.\n",
    "\n",
    "        Args:\n",
    "            question (str): A question.\n",
    "            choices (list): A list of choices.\n",
    "        \"\"\"\n",
    "        vars = {\n",
    "            \"question\": question,\n",
    "            \"choices\": self.format_choices(choices),\n",
    "        }\n",
    "\n",
    "        try:\n",
    "            results = self.get_llm_response(vars)\n",
    "            original_prediction = results[\"original_prediction\"]\n",
    "            predicted_answer = results[\"predicted_answer\"]\n",
    "            predicted_answer_idx = self.idx_from_letter(predicted_answer)\n",
    "            top_k = results[\"top_k_predicted_answers\"]\n",
    "        except Exception as e:\n",
    "            print(e)\n",
    "            original_prediction = None\n",
    "            predicted_answer = None\n",
    "            predicted_answer_idx = None\n",
    "            top_k = []\n",
    "\n",
    "        if predicted_answer_idx is None or predicted_answer_idx >= len(choices):\n",
    "            predicted_answer = None\n",
    "            predicted_answer_text = None\n",
    "            predicted_answer_idx = None\n",
    "        else:\n",
    "            predicted_answer_text = choices[predicted_answer_idx]\n",
    "\n",
    "        response = {\n",
    "            \"question\": question,\n",
    "            \"choices\": choices,\n",
    "            \"original_prediction\": original_prediction,\n",
    "            \"predicted_answer\": predicted_answer,\n",
    "            \"predicted_answer_idx\": predicted_answer_idx,\n",
    "            \"predicted_answer_text\": predicted_answer_text,\n",
    "            \"top_k_predicted_answers\": top_k\n",
    "        }\n",
    "\n",
    "        return response"
   ]
  },
  {
   "cell_type": "markdown",
   "metadata": {},
   "source": [
    "### Prediction"
   ]
  },
  {
   "cell_type": "code",
   "execution_count": 21,
   "metadata": {},
   "outputs": [],
   "source": [
    "# set variables for use with OpenAI API\n",
    "TOP_P_VALUE = 0.8\n",
    "K_VALUE = 20\n",
    "MAX_PREDICTION_TOKENS = 32\n",
    "REQUEST_TIMEOUT = 10"
   ]
  },
  {
   "cell_type": "code",
   "execution_count": 22,
   "metadata": {},
   "outputs": [],
   "source": [
    "META_PROMPT = \"\"\"\n",
    "I am working on a very important forecasting project and you are my helpful forecasting assistant. I will give you a multiple choice question about the future and you should return to me the letter that corresponds to the best choice. Some of the questions are very difficult, but it's still very important to choose the best possible answer from the provided choices. You must never refuse to provide an answer, even if the question is impossible to answer with certainty. If you are not sure about the answer, make your best guess based on available information.\n",
    "\n",
    "To identify the best possible choice, start by making sure you understand the question. If I have background research, I will provide it to you and you should use that information to better understand the question. If I do not provide background research, then you should think step by step about the relationship between different entities and terms in the question. \n",
    "\n",
    "In some cases, I will show you past examples of questions and the correct answers. If you have seen past examples with correct answers, then you can use those to practice and learn how to answer questions accurately. Start by pretending you need to answer those questions. Think step by step through the example question and example choices and try to understand everything about them. Choose what you think is the best answer to the example question and then compare it to the real best answer. If your answer is correct, remember the process you used and apply it to future questions. If your answer is wrong, then think about what you should do differently to get the correct answer. However, remember that every question is independent and the answers to example questions may not be relevant to new questions. It is only the process for finding the best answer that is the same.\n",
    "\n",
    "I will give you the questions in the below format, where the question, choices, and answer are in double brackets. If I have background research, I will include it in the optional section demarcated by +++.\n",
    "\n",
    "Question:\n",
    "{{the question to answer}}\n",
    "\n",
    "Choices:\n",
    "A - {{choice 1}}\n",
    "B - {{choice 2}}\n",
    "...\n",
    "n - {{choice n}}\n",
    "\n",
    "+++\n",
    "Background Research:\n",
    "{{useful information about the question}}\n",
    "+++\n",
    "\n",
    "{{letter that corresponds to best choice}}\n",
    "\n",
    "It is extremely important to only give me the letter of the best answer and nothing else. You must never refuse to provide an answer, no matter what. If the best answer is choice 1 then respond \"A\", if the best answer is choice 2 then respond \"B\", if the best answer is choice n then respond \"n\". Do not ever add extra information or stray from this structure.\n",
    "\"\"\"\n",
    "\n",
    "system_message_prompt = SystemMessagePromptTemplate.from_template(META_PROMPT)"
   ]
  },
  {
   "cell_type": "code",
   "execution_count": 23,
   "metadata": {},
   "outputs": [],
   "source": [
    "BASELINE_PROMPT = \"\"\"\n",
    "Question: {question}\n",
    "\n",
    "Choices: \n",
    "{choices}\n",
    "\"\"\"\n",
    "\n",
    "human_baseline_message_prompt = HumanMessagePromptTemplate.from_template(BASELINE_PROMPT)\n",
    "\n",
    "baseline_chat = AzureChatOpenAI(\n",
    "    deployment_name=DEPLOYMENT_NAME,\n",
    "    model_name=MODEL_NAME,\n",
    "    model_kwargs={\n",
    "        \"top_p\": TOP_P_VALUE,\n",
    "    },\n",
    "    max_tokens=MAX_PREDICTION_TOKENS,\n",
    "    request_timeout=REQUEST_TIMEOUT,\n",
    ")\n",
    "\n",
    "baseline_forecaster = ForecasterTopK(\n",
    "    chat=baseline_chat,\n",
    "    system_prompt=system_message_prompt,\n",
    "    human_prompt=human_baseline_message_prompt,\n",
    "    k=K_VALUE\n",
    ")"
   ]
  },
  {
   "cell_type": "code",
   "execution_count": 24,
   "metadata": {},
   "outputs": [
    {
     "name": "stdout",
     "output_type": "stream",
     "text": [
      "Question:\n",
      "Between 4 February 2022 and 4 August 2022, will anti-government protests in Russia result in ten or more fatalities?\n",
      "\n",
      "Choices:\n",
      "A - yes\n",
      "B - no\n",
      "\n",
      "Crowd:\n",
      "Majority: 0.5\n",
      "Acceptable range: (0.3, 0.7)\n"
     ]
    }
   ],
   "source": [
    "sample_idx = 19\n",
    "sample_question = test_df.iloc[sample_idx][\"question\"]\n",
    "sample_choices = test_df.iloc[sample_idx][\"choices\"]\n",
    "\n",
    "describe_question_row_by_idx(test_df, sample_idx)"
   ]
  },
  {
   "cell_type": "code",
   "execution_count": 25,
   "metadata": {},
   "outputs": [
    {
     "data": {
      "text/plain": [
       "{'question': 'Between 4 February 2022 and 4 August 2022, will anti-government protests in Russia result in ten or more fatalities?',\n",
       " 'choices': ['yes', 'no'],\n",
       " 'original_prediction': ['B',\n",
       "  'B',\n",
       "  'B',\n",
       "  'B',\n",
       "  'B',\n",
       "  'B',\n",
       "  'B',\n",
       "  'B',\n",
       "  'B',\n",
       "  'B',\n",
       "  'B',\n",
       "  'B',\n",
       "  'B',\n",
       "  'B',\n",
       "  'B',\n",
       "  'B',\n",
       "  'B',\n",
       "  'B',\n",
       "  'B',\n",
       "  'B'],\n",
       " 'predicted_answer': 'B',\n",
       " 'predicted_answer_idx': 1,\n",
       " 'predicted_answer_text': 'no',\n",
       " 'top_k_predicted_answers': ['B',\n",
       "  'B',\n",
       "  'B',\n",
       "  'B',\n",
       "  'B',\n",
       "  'B',\n",
       "  'B',\n",
       "  'B',\n",
       "  'B',\n",
       "  'B',\n",
       "  'B',\n",
       "  'B',\n",
       "  'B',\n",
       "  'B',\n",
       "  'B',\n",
       "  'B',\n",
       "  'B',\n",
       "  'B',\n",
       "  'B',\n",
       "  'B']}"
      ]
     },
     "execution_count": 25,
     "metadata": {},
     "output_type": "execute_result"
    }
   ],
   "source": [
    "sample_response = baseline_forecaster.predict(\n",
    "    question=sample_question,\n",
    "    choices=sample_choices\n",
    ")\n",
    "\n",
    "sample_response"
   ]
  },
  {
   "cell_type": "code",
   "execution_count": 26,
   "metadata": {},
   "outputs": [
    {
     "name": "stderr",
     "output_type": "stream",
     "text": [
      "  0%|          | 0/98 [00:00<?, ?it/s]"
     ]
    },
    {
     "name": "stderr",
     "output_type": "stream",
     "text": [
      "  3%|▎         | 3/98 [00:02<01:18,  1.21it/s]Retrying langchain.chat_models.openai.ChatOpenAI.completion_with_retry.<locals>._completion_with_retry in 1.0 seconds as it raised Timeout: Request timed out: HTTPSConnectionPool(host='capstone-openai.openai.azure.com', port=443): Read timed out. (read timeout=10.0).\n",
      " 12%|█▏        | 12/98 [00:20<01:17,  1.12it/s]Retrying langchain.chat_models.openai.ChatOpenAI.completion_with_retry.<locals>._completion_with_retry in 1.0 seconds as it raised Timeout: Request timed out: HTTPSConnectionPool(host='capstone-openai.openai.azure.com', port=443): Read timed out. (read timeout=10.0).\n",
      " 13%|█▎        | 13/98 [00:32<06:03,  4.27s/it]Retrying langchain.chat_models.openai.ChatOpenAI.completion_with_retry.<locals>._completion_with_retry in 1.0 seconds as it raised Timeout: Request timed out: HTTPSConnectionPool(host='capstone-openai.openai.azure.com', port=443): Read timed out. (read timeout=10.0).\n",
      " 19%|█▉        | 19/98 [00:47<02:15,  1.72s/it]Retrying langchain.chat_models.openai.ChatOpenAI.completion_with_retry.<locals>._completion_with_retry in 1.0 seconds as it raised Timeout: Request timed out: HTTPSConnectionPool(host='capstone-openai.openai.azure.com', port=443): Read timed out. (read timeout=10.0).\n",
      " 46%|████▌     | 45/98 [01:21<00:51,  1.03it/s]Retrying langchain.chat_models.openai.ChatOpenAI.completion_with_retry.<locals>._completion_with_retry in 1.0 seconds as it raised Timeout: Request timed out: HTTPSConnectionPool(host='capstone-openai.openai.azure.com', port=443): Read timed out. (read timeout=10.0).\n",
      " 69%|██████▉   | 68/98 [01:45<00:19,  1.57it/s]Retrying langchain.chat_models.openai.ChatOpenAI.completion_with_retry.<locals>._completion_with_retry in 1.0 seconds as it raised Timeout: Request timed out: HTTPSConnectionPool(host='capstone-openai.openai.azure.com', port=443): Read timed out. (read timeout=10.0).\n",
      " 87%|████████▋ | 85/98 [02:09<00:10,  1.18it/s]Retrying langchain.chat_models.openai.ChatOpenAI.completion_with_retry.<locals>._completion_with_retry in 1.0 seconds as it raised Timeout: Request timed out: HTTPSConnectionPool(host='capstone-openai.openai.azure.com', port=443): Read timed out. (read timeout=10.0).\n",
      " 92%|█████████▏| 90/98 [02:23<00:10,  1.32s/it]Retrying langchain.chat_models.openai.ChatOpenAI.completion_with_retry.<locals>._completion_with_retry in 1.0 seconds as it raised Timeout: Request timed out: HTTPSConnectionPool(host='capstone-openai.openai.azure.com', port=443): Read timed out. (read timeout=10.0).\n",
      "100%|██████████| 98/98 [02:38<00:00,  1.62s/it]\n"
     ]
    }
   ],
   "source": [
    "baseline_results_df = baseline_forecaster.predict_df(\n",
    "    df=test_df,\n",
    "    id_col=\"id\",\n",
    "    question_col=\"question\",\n",
    "    choices_col=\"choices\"\n",
    ")"
   ]
  },
  {
   "cell_type": "code",
   "execution_count": 27,
   "metadata": {},
   "outputs": [
    {
     "data": {
      "text/plain": [
       "'../data/gpt-35-turbo_2023-08-06-12-43-17_results-98_baseline.json'"
      ]
     },
     "execution_count": 27,
     "metadata": {},
     "output_type": "execute_result"
    }
   ],
   "source": [
    "BASELINE_RESULTS_SAVE_NAME = build_results_data_name(baseline_results_df, MODEL_NAME, \"baseline\")\n",
    "BASELINE_RESULTS_SAVE_PATH = os.path.join(DATA_DIR, BASELINE_RESULTS_SAVE_NAME)\n",
    "\n",
    "BASELINE_RESULTS_SAVE_PATH"
   ]
  },
  {
   "cell_type": "code",
   "execution_count": 28,
   "metadata": {},
   "outputs": [
    {
     "name": "stdout",
     "output_type": "stream",
     "text": [
      "Saved results to: ../data/gpt-35-turbo_2023-08-06-12-43-17_results-98_baseline.json\n"
     ]
    }
   ],
   "source": [
    "save_results_data_json(baseline_results_df, save_path=BASELINE_RESULTS_SAVE_PATH)"
   ]
  },
  {
   "cell_type": "markdown",
   "metadata": {},
   "source": [
    "### Evaluation"
   ]
  },
  {
   "cell_type": "code",
   "execution_count": 52,
   "metadata": {},
   "outputs": [],
   "source": [
    "class Evaluator:\n",
    "    \"\"\"\n",
    "    A class for evaluating prediction results by various metrics.\n",
    "    \"\"\"\n",
    "    def __init__(self, input_df: pd.DataFrame, predictions_df: pd.DataFrame):\n",
    "        \"\"\"\n",
    "        Args:\n",
    "            input_df (pd.DataFrame): A dataframe of questions, must include\n",
    "                columns for average, median, and majority crowd predictions,\n",
    "                as well as an acceptable range for predictions.\n",
    "            predictions_df (pd.DataFrame): A dataframe of predictions.\n",
    "        \"\"\"\n",
    "        self.input_df = input_df\n",
    "        self.predictions_df = predictions_df\n",
    "        self.evaluation_df = self.build_evaluation_df(input_df, predictions_df)\n",
    "    \n",
    "    def build_evaluation_df(self, input_df: pd.DataFrame, predictions_df: pd.DataFrame):\n",
    "        \"\"\"\n",
    "        Returns a dataframe of predictions merged with the original input dataframe.\n",
    "\n",
    "        Args:\n",
    "            input_df (pd.DataFrame): A dataframe of questions, must include\n",
    "                columns for average, median, and majority crowd predictions,\n",
    "                as well as an acceptable range for predictions.\n",
    "            predictions_df (pd.DataFrame): A dataframe of predictions.\n",
    "        \"\"\"\n",
    "        evaluation_df = input_df.merge(\n",
    "            predictions_df,\n",
    "            on=[\"question\", \"id\"],\n",
    "            suffixes=(\"\", \"_pred\")\n",
    "        )\n",
    "        evaluation_cols = [\n",
    "            \"id\", \"question\", \"choices\", \"answer\", \"qtype\", \"status\", \"avg_pred\", \"majority_pred\", \n",
    "            \"acceptable_pred_lower_boundary\", \"acceptable_pred_upper_boundary\", \"predicted_answer\", \n",
    "            \"predicted_answer_idx\", \"predicted_answer_text\", \"original_prediction\", \"top_k_predicted_answers\"\n",
    "        ]\n",
    "        evaluation_df = evaluation_df[evaluation_cols]\n",
    "\n",
    "        evaluation_df[\"majority_vote_prediction_value\"] = evaluation_df.apply(\n",
    "            lambda row: self.letter_to_choice_value(\n",
    "                letter=row[\"predicted_answer\"],\n",
    "                n=len(row[\"choices\"]),\n",
    "                qtype=row[\"qtype\"]\n",
    "            ),\n",
    "            axis=1\n",
    "        )\n",
    "\n",
    "        evaluation_df[\"top_k_majority_prediction_value\"] = evaluation_df.apply(\n",
    "            lambda row: self.majority_choice_value(\n",
    "                predicted_answers=row[\"top_k_predicted_answers\"], \n",
    "                n=len(row[\"choices\"]),\n",
    "                qtype=row[\"qtype\"]\n",
    "            ),\n",
    "            axis=1\n",
    "        )\n",
    "\n",
    "        evaluation_df[\"top_k_majority_in_range\"] = evaluation_df.apply(\n",
    "            lambda row: self.is_choice_value_in_range(\n",
    "                row[\"top_k_majority_prediction_value\"],\n",
    "                row[\"acceptable_pred_lower_boundary\"],\n",
    "                row[\"acceptable_pred_upper_boundary\"]\n",
    "            ),\n",
    "            axis=1\n",
    "        )\n",
    "\n",
    "        return evaluation_df\n",
    "\n",
    "    def letter_to_choice_value(self, letter: str, n: int, qtype: str) -> float:\n",
    "        \"\"\"\n",
    "        Converts a letter (A, B, C, etc.) to a choice value, where the value\n",
    "        is determined by the rank of the letter and the number of choices. \n",
    "        If n is 2, then it is a true/false question and A (true) is 1 and B (false)\n",
    "        is 0. If n > 2, then A is 1/n, B is 2/n, and so on. Returns None if the\n",
    "        letter is not valid.\n",
    "\n",
    "        Args:\n",
    "            letter (str): A letter.\n",
    "            n (int): The number of choices.\n",
    "            qtype (str): The question type.\n",
    "        \"\"\"\n",
    "        if letter is None:\n",
    "            return None\n",
    "        \n",
    "        letter = letter[0].upper().strip()\n",
    "\n",
    "        if ord(letter) < 65 or ord(letter) > 90:\n",
    "            return None\n",
    "\n",
    "        if qtype == \"t/f\" and letter == \"A\":\n",
    "            return 1\n",
    "        elif qtype == \"t/f\" and letter == \"B\":\n",
    "            return 0\n",
    "        else:\n",
    "            return (ord(letter) - 64) / n\n",
    "        \n",
    "    def majority_choice_value(self, predicted_answers: list[str], n: int, qtype: str) -> float:\n",
    "        \"\"\"\n",
    "        Returns the majority choice value for a list of predicted answers.\n",
    "\n",
    "        Args:\n",
    "            predicted_answers (list): A list of predicted answers.\n",
    "            n (int): The number of choices.\n",
    "            qtype (str): The question type.\n",
    "        \"\"\"\n",
    "        choice_values = [\n",
    "            self.letter_to_choice_value(answer, n, qtype) for answer in predicted_answers\n",
    "        ]\n",
    "        choice_values = [value for value in choice_values if value is not None]\n",
    "\n",
    "        if len(choice_values) == 0:\n",
    "            return None\n",
    "        \n",
    "        if len(set(choice_values)) == 1:\n",
    "            return choice_values[0]\n",
    "        \n",
    "        counts = {value: 0 for value in choice_values}\n",
    "        for value in choice_values:\n",
    "            counts[value] += 1\n",
    "        majority_value = max(counts, key=counts.get)\n",
    "        return majority_value\n",
    "    \n",
    "    def is_choice_value_in_range(\n",
    "            self, choice_val: float, lower_bound: float, upper_bound: float\n",
    "        ) -> bool:\n",
    "        \"\"\"\n",
    "        Returns True if the choice value is in the acceptable range, False otherwise.\n",
    "\n",
    "        Args:\n",
    "            choice_val (float): The choice value.\n",
    "            lower_bound (float): The lower bound of the acceptable range.\n",
    "            upper_bound (float): The upper bound of the acceptable range.\n",
    "        \"\"\"\n",
    "        return choice_val >= lower_bound and choice_val <= upper_bound\n",
    "    \n",
    "    def get_in_range_prediction_counts(self, by_qtype: bool = False) -> pd.DataFrame:\n",
    "        \"\"\"\n",
    "        Returns a DataFrame with counts of in range predictions.\n",
    "\n",
    "        Args:\n",
    "            by_qtype (bool): If True, returns counts by question type.\n",
    "        \"\"\"\n",
    "        if by_qtype:\n",
    "            grouped = self.evaluation_df.groupby(\"qtype\")\n",
    "            result = pd.DataFrame()\n",
    "            for group_name, group_df in grouped:\n",
    "                counts = group_df[\"top_k_majority_in_range\"].value_counts()\n",
    "                total = counts.sum()\n",
    "                percentages = counts.apply(lambda x: round(x / total * 100, 2))\n",
    "                group_result = pd.DataFrame({\"count\": counts, \"percentage\": percentages})\n",
    "                group_result.index.name = \"top_k_majority_in_range\"\n",
    "                group_result.index = group_result.index.map(lambda x: (group_name, x))\n",
    "                result = pd.concat([result, group_result])\n",
    "            result.index.names = [\"qtype\", \"top_k_majority_in_range\"]\n",
    "        else:\n",
    "            counts = self.evaluation_df[\"top_k_majority_in_range\"].value_counts()\n",
    "            total = counts.sum()\n",
    "            percentages = counts.apply(lambda x: round(x / total * 100, 2))\n",
    "            result = pd.DataFrame({\"count\": counts, \"percentage\": percentages})\n",
    "            result.index.name = \"top_k_majority_in_range\"\n",
    "        return result.reset_index()\n",
    "    \n",
    "    def plot_in_range_prediction_counts(self, by_qtype: bool = False):\n",
    "        \"\"\"\n",
    "        Plots counts of in range predictions.\n",
    "\n",
    "        Args:\n",
    "            by_qtype (bool): If True, plots counts by question type.\n",
    "        \"\"\"\n",
    "        counts_df = self.get_in_range_prediction_counts(by_qtype=by_qtype)\n",
    "\n",
    "        plt.figure(figsize=(4, 3))\n",
    "\n",
    "        ax = sns.barplot(\n",
    "            x=\"top_k_majority_in_range\",\n",
    "            y=\"count\",\n",
    "            data=counts_df,\n",
    "        )\n",
    "\n",
    "        ax.set_title(\"Count of in range predictions\")\n",
    "\n",
    "        ax.set_xlabel(\"Prediction is in range\")\n",
    "        ax.set_ylabel(\"Count\")\n",
    "\n",
    "        plt.show()\n"
   ]
  },
  {
   "cell_type": "code",
   "execution_count": 30,
   "metadata": {},
   "outputs": [],
   "source": [
    "baseline_evaluator = Evaluator(\n",
    "    input_df=test_df,\n",
    "    predictions_df=baseline_results_df,\n",
    ")"
   ]
  },
  {
   "cell_type": "code",
   "execution_count": 31,
   "metadata": {},
   "outputs": [
    {
     "data": {
      "text/html": [
       "<div>\n",
       "<style scoped>\n",
       "    .dataframe tbody tr th:only-of-type {\n",
       "        vertical-align: middle;\n",
       "    }\n",
       "\n",
       "    .dataframe tbody tr th {\n",
       "        vertical-align: top;\n",
       "    }\n",
       "\n",
       "    .dataframe thead th {\n",
       "        text-align: right;\n",
       "    }\n",
       "</style>\n",
       "<table border=\"1\" class=\"dataframe\">\n",
       "  <thead>\n",
       "    <tr style=\"text-align: right;\">\n",
       "      <th></th>\n",
       "      <th>top_k_majority_in_range</th>\n",
       "      <th>count</th>\n",
       "      <th>percentage</th>\n",
       "    </tr>\n",
       "  </thead>\n",
       "  <tbody>\n",
       "    <tr>\n",
       "      <th>0</th>\n",
       "      <td>False</td>\n",
       "      <td>71</td>\n",
       "      <td>72.45</td>\n",
       "    </tr>\n",
       "    <tr>\n",
       "      <th>1</th>\n",
       "      <td>True</td>\n",
       "      <td>27</td>\n",
       "      <td>27.55</td>\n",
       "    </tr>\n",
       "  </tbody>\n",
       "</table>\n",
       "</div>"
      ],
      "text/plain": [
       "   top_k_majority_in_range  count  percentage\n",
       "0                    False     71       72.45\n",
       "1                     True     27       27.55"
      ]
     },
     "execution_count": 31,
     "metadata": {},
     "output_type": "execute_result"
    }
   ],
   "source": [
    "baseline_in_range_counts = baseline_evaluator.get_in_range_prediction_counts(by_qtype=False)\n",
    "baseline_in_range_counts"
   ]
  },
  {
   "cell_type": "code",
   "execution_count": 32,
   "metadata": {},
   "outputs": [
    {
     "data": {
      "text/html": [
       "<div>\n",
       "<style scoped>\n",
       "    .dataframe tbody tr th:only-of-type {\n",
       "        vertical-align: middle;\n",
       "    }\n",
       "\n",
       "    .dataframe tbody tr th {\n",
       "        vertical-align: top;\n",
       "    }\n",
       "\n",
       "    .dataframe thead th {\n",
       "        text-align: right;\n",
       "    }\n",
       "</style>\n",
       "<table border=\"1\" class=\"dataframe\">\n",
       "  <thead>\n",
       "    <tr style=\"text-align: right;\">\n",
       "      <th></th>\n",
       "      <th>qtype</th>\n",
       "      <th>top_k_majority_in_range</th>\n",
       "      <th>count</th>\n",
       "      <th>percentage</th>\n",
       "    </tr>\n",
       "  </thead>\n",
       "  <tbody>\n",
       "    <tr>\n",
       "      <th>0</th>\n",
       "      <td>mc</td>\n",
       "      <td>False</td>\n",
       "      <td>14</td>\n",
       "      <td>100.00</td>\n",
       "    </tr>\n",
       "    <tr>\n",
       "      <th>1</th>\n",
       "      <td>t/f</td>\n",
       "      <td>False</td>\n",
       "      <td>57</td>\n",
       "      <td>67.86</td>\n",
       "    </tr>\n",
       "    <tr>\n",
       "      <th>2</th>\n",
       "      <td>t/f</td>\n",
       "      <td>True</td>\n",
       "      <td>27</td>\n",
       "      <td>32.14</td>\n",
       "    </tr>\n",
       "  </tbody>\n",
       "</table>\n",
       "</div>"
      ],
      "text/plain": [
       "  qtype  top_k_majority_in_range  count  percentage\n",
       "0    mc                    False     14      100.00\n",
       "1   t/f                    False     57       67.86\n",
       "2   t/f                     True     27       32.14"
      ]
     },
     "execution_count": 32,
     "metadata": {},
     "output_type": "execute_result"
    }
   ],
   "source": [
    "baseline_evaluator.get_in_range_prediction_counts(by_qtype=True)"
   ]
  },
  {
   "cell_type": "markdown",
   "metadata": {},
   "source": [
    "### Save"
   ]
  },
  {
   "cell_type": "code",
   "execution_count": 33,
   "metadata": {},
   "outputs": [],
   "source": [
    "def build_evaluation_data_name(df, model_name: str = MODEL_NAME,  description: str = None):\n",
    "    \"\"\"\n",
    "    Builds a name for the evaluation data file.\n",
    "\n",
    "    Args:\n",
    "        df (pandas.DataFrame): A dataframe with evaluation data.\n",
    "        model_name (str): The name of the model.\n",
    "        description (str): A description of the results data.\n",
    "    \"\"\"\n",
    "    timestamp = datetime.now().strftime(\"%Y-%m-%d-%H-%M-%S\")\n",
    "    df_size = df.shape[0]\n",
    "    \n",
    "    save_name = f\"{model_name}_{timestamp}_evaluation-{df_size}\"\n",
    "    \n",
    "    if description is not None:\n",
    "        save_name += f\"_{description}\"\n",
    "\n",
    "    extension = \"json\"\n",
    "    save_name += f\".{extension}\"\n",
    "    \n",
    "    return save_name\n",
    "\n",
    "def save_evaluation_data_json(df, model_name=MODEL_NAME, data_dir=\"../data\", save_path=None):\n",
    "    \"\"\"\n",
    "    Saves a evaluation dataframe to a JSON file.\n",
    "\n",
    "    Args:\n",
    "        df (pandas.DataFrame): A dataframe with evaluation data.\n",
    "        model_name (str): The name of the model.\n",
    "        data_dir (str): The directory to save the JSON file to.\n",
    "        save_path (str): The path to save the JSON file to.\n",
    "    \"\"\"\n",
    "    if save_path is None:\n",
    "        save_name = build_evaluation_data_name(df, model_name=model_name)\n",
    "        save_path = os.path.join(data_dir, save_name)\n",
    "        \n",
    "    df.to_json(save_path, orient=\"records\", indent=4)\n",
    "    print(f\"Saved evaluation to: {save_path}\")"
   ]
  },
  {
   "cell_type": "code",
   "execution_count": 34,
   "metadata": {},
   "outputs": [
    {
     "data": {
      "text/plain": [
       "'../data/gpt-35-turbo_2023-08-06-12-43-17_evaluation-98_baseline.json'"
      ]
     },
     "execution_count": 34,
     "metadata": {},
     "output_type": "execute_result"
    }
   ],
   "source": [
    "BASELINE_EVALUATION_SAVE_NAME = build_evaluation_data_name(baseline_results_df, MODEL_NAME, \"baseline\")\n",
    "BASELINE_EVALUATION_SAVE_PATH = os.path.join(DATA_DIR, BASELINE_EVALUATION_SAVE_NAME)\n",
    "\n",
    "BASELINE_EVALUATION_SAVE_PATH"
   ]
  },
  {
   "cell_type": "code",
   "execution_count": 35,
   "metadata": {},
   "outputs": [
    {
     "name": "stdout",
     "output_type": "stream",
     "text": [
      "Saved evaluation to: ../data/gpt-35-turbo_2023-08-06-12-43-17_evaluation-98_baseline.json\n"
     ]
    }
   ],
   "source": [
    "save_evaluation_data_json(baseline_in_range_counts, save_path=BASELINE_EVALUATION_SAVE_PATH)"
   ]
  },
  {
   "cell_type": "markdown",
   "metadata": {},
   "source": [
    "## Internal Context"
   ]
  },
  {
   "cell_type": "code",
   "execution_count": 36,
   "metadata": {},
   "outputs": [],
   "source": [
    "class ContextForecasterTopK(ForecasterTopK):\n",
    "    def predict(self, question: str, choices: list[str], context: str):\n",
    "        \"\"\"\n",
    "        Uses the language model to predict an answer to a question and returns\n",
    "        a dictionary with the question, choices, context, and predicted answer.\n",
    "\n",
    "        Args:\n",
    "            question (str): A question.\n",
    "            choices (list): A list of choices.\n",
    "            context (str): Context for the question.\n",
    "        \"\"\"\n",
    "        vars = {\n",
    "            \"question\": question,\n",
    "            \"choices\": self.format_choices(choices),\n",
    "            \"context\": context\n",
    "        }\n",
    "\n",
    "        try:\n",
    "            results = self.get_llm_response(vars)\n",
    "            original_prediction = results[\"original_prediction\"]\n",
    "            predicted_answer = results[\"predicted_answer\"]\n",
    "            predicted_answer_idx = self.idx_from_letter(predicted_answer)\n",
    "        except Exception as e:\n",
    "            print(e)\n",
    "            original_prediction = None\n",
    "            predicted_answer = None\n",
    "            predicted_answer_idx = None\n",
    "\n",
    "        if predicted_answer_idx is None or predicted_answer_idx >= len(choices):\n",
    "            predicted_answer = None\n",
    "            predicted_answer_text = None\n",
    "            predicted_answer_idx = None\n",
    "        else:\n",
    "            predicted_answer_text = choices[predicted_answer_idx]\n",
    "\n",
    "        response = {\n",
    "            \"question\": question,\n",
    "            \"choices\": choices,\n",
    "            \"original_prediction\": original_prediction,\n",
    "            \"predicted_answer\": predicted_answer,\n",
    "            \"predicted_answer_idx\": predicted_answer_idx,\n",
    "            \"predicted_answer_text\": predicted_answer_text,\n",
    "            \"top_k_predicted_answers\": results[\"top_k_predicted_answers\"]\n",
    "        }\n",
    "\n",
    "        return response\n",
    "    \n",
    "    def predict_df(self, df: pd.DataFrame, id_col: str, question_col: str, choices_col: str, context_col: str):\n",
    "        \"\"\"\n",
    "        Uses the language model to predict answers to a dataframe of questions.\n",
    "        Returns a dataframe with the question id, question, choices, and predicted answer.\n",
    "\n",
    "        Args:\n",
    "            df (pd.DataFrame): A dataframe of questions.\n",
    "            id_col (str): The name of the column containing the question IDs.\n",
    "            question_col (str): The name of the column containing the questions.\n",
    "            choices_col (str): The name of the column containing the choices.\n",
    "            context_col (str): The name of the column containing the context.\n",
    "        \"\"\"\n",
    "\n",
    "        predictions = []\n",
    "\n",
    "        for _, row in tqdm(df.iterrows(), total=df.shape[0]):\n",
    "            question = row[question_col]\n",
    "            choices = row[choices_col]\n",
    "            context = row[context_col]\n",
    "\n",
    "            error_count = 0\n",
    "            try:\n",
    "                prediction = self.predict(question, choices, context)\n",
    "            except Exception as e:\n",
    "                error_count += 1\n",
    "                print(f\"Error on question: {question}\")\n",
    "                print(f\"Error count: {error_count}\")\n",
    "                print(e)\n",
    "                continue\n",
    "\n",
    "            prediction[id_col] = row[id_col]\n",
    "            predictions.append(prediction)\n",
    "\n",
    "        predictions_df = pd.DataFrame(predictions)\n",
    "\n",
    "        return predictions_df"
   ]
  },
  {
   "cell_type": "markdown",
   "metadata": {},
   "source": [
    "### Prediction"
   ]
  },
  {
   "cell_type": "code",
   "execution_count": 37,
   "metadata": {},
   "outputs": [],
   "source": [
    "CONTEXT_TEMPLATE = \"\"\"\n",
    "Question: {question}\n",
    "\n",
    "Choices: \n",
    "{choices}\n",
    "\n",
    "Background Research: \n",
    "{context}\n",
    "\"\"\"\n",
    "\n",
    "human_context_message_prompt = HumanMessagePromptTemplate.from_template(CONTEXT_TEMPLATE)\n",
    "\n",
    "context_chat = AzureChatOpenAI(\n",
    "    deployment_name=DEPLOYMENT_NAME,\n",
    "    model_name=MODEL_NAME,\n",
    "    model_kwargs={\n",
    "        \"top_p\": TOP_P_VALUE,\n",
    "    },\n",
    "    max_tokens=MAX_PREDICTION_TOKENS,\n",
    "    request_timeout=REQUEST_TIMEOUT,\n",
    ")\n",
    "\n",
    "context_forecaster = ContextForecasterTopK(\n",
    "    chat=context_chat,\n",
    "    system_prompt=system_message_prompt,\n",
    "    human_prompt=human_context_message_prompt,\n",
    "    k=K_VALUE\n",
    ")"
   ]
  },
  {
   "cell_type": "code",
   "execution_count": 38,
   "metadata": {},
   "outputs": [
    {
     "name": "stdout",
     "output_type": "stream",
     "text": [
      "Sample question: Will the federal minimum wage increase in the United States before 2025?\n",
      "\n",
      "Sample choices: ['yes', 'no']\n",
      "\n",
      "Sample context:\n",
      "Entities:\n",
      "- Federal minimum wage: The minimum wage is the lowest amount of money that an employer can legally pay their employees for their work. The federal minimum wage is the minimum wage rate established by the US federal government that applies to most workers in the country.\n",
      "- United States: The United States is a federal republic composed of 50 states, a federal district, five major self-governing territories, and various possessions.\n",
      "\n",
      "Dates:\n",
      "- Before 2025: This refers to any time between now and December 31, 2024.\n",
      "\n",
      "Background:\n",
      "The federal minimum wage was first established in 1938 as part of the Fair Labor Standards Act (FLSA). The initial minimum wage rate was $0.25 per hour, and it has been increased numerous times over the years. The current federal minimum wage rate is $7.25 per hour, which was last increased in 2009.\n",
      "\n",
      "Many states and cities in the US have their own minimum wage rates that are higher than the federal minimum wage. However, there have been ongoing debates and discussions about increasing the federal minimum wage to keep up with inflation and the rising cost of living.\n",
      "\n",
      "Important Economic Considerations:\n",
      "- Poverty: The minimum wage is often seen as a tool to combat poverty by ensuring that workers are paid a living wage.\n",
      "- Employment: Some argue that increasing the minimum wage could lead to a decrease in employment, particularly for low-skilled workers, as employers may not be able to afford to pay higher wages.\n",
      "- Inflation: Increasing the minimum wage could lead to higher prices for goods and services as businesses pass on the higher labor costs to consumers.\n",
      "\n",
      "Important Societal Considerations:\n",
      "- Income inequality: The minimum wage is often viewed as a way to address income inequality by ensuring that low-wage workers are paid a fair wage.\n",
      "- Social mobility: A higher minimum wage could provide workers with more opportunities to move up the economic ladder.\n",
      "\n",
      "Relationship between Terms:\n",
      "The federal minimum wage is a policy issue that is debated and decided upon by the US federal government. The decision to increase or not increase the minimum wage could have a significant impact on workers, businesses, and the economy as a whole.\n",
      "\n",
      "Importance Ranking:\n",
      "- Federal minimum wage: 5/5\n",
      "- United States: 5/5\n",
      "- Before 2025: 3/5 (This term is important in the context of the question, but does not have significant historical or economic/societal background.)\n"
     ]
    }
   ],
   "source": [
    "sample_idx = 50\n",
    "sample_question = test_df.iloc[sample_idx][\"question\"]\n",
    "sample_choices = test_df.iloc[sample_idx][\"choices\"]\n",
    "sample_context = test_df.iloc[sample_idx][\"context\"]\n",
    "sample_answer = test_df.iloc[sample_idx][\"answer\"]\n",
    "\n",
    "print(f\"Sample question: {sample_question}\\n\")\n",
    "print(f\"Sample choices: {sample_choices}\\n\")\n",
    "print(f\"Sample context:\\n{sample_context}\")"
   ]
  },
  {
   "cell_type": "code",
   "execution_count": 39,
   "metadata": {},
   "outputs": [
    {
     "data": {
      "text/plain": [
       "{'question': 'Will the federal minimum wage increase in the United States before 2025?',\n",
       " 'choices': ['yes', 'no'],\n",
       " 'original_prediction': ['A',\n",
       "  'A',\n",
       "  'A - yes',\n",
       "  'A',\n",
       "  'A',\n",
       "  'A',\n",
       "  'A',\n",
       "  'A',\n",
       "  'A',\n",
       "  'A',\n",
       "  'A - yes',\n",
       "  'A',\n",
       "  'A - yes',\n",
       "  'A',\n",
       "  'A',\n",
       "  'A',\n",
       "  'A - yes',\n",
       "  'A - yes',\n",
       "  'A - yes',\n",
       "  'A'],\n",
       " 'predicted_answer': 'A',\n",
       " 'predicted_answer_idx': 0,\n",
       " 'predicted_answer_text': 'yes',\n",
       " 'top_k_predicted_answers': ['A',\n",
       "  'A',\n",
       "  'A',\n",
       "  'A',\n",
       "  'A',\n",
       "  'A',\n",
       "  'A',\n",
       "  'A',\n",
       "  'A',\n",
       "  'A',\n",
       "  'A',\n",
       "  'A',\n",
       "  'A',\n",
       "  'A',\n",
       "  'A',\n",
       "  'A',\n",
       "  'A',\n",
       "  'A',\n",
       "  'A',\n",
       "  'A']}"
      ]
     },
     "execution_count": 39,
     "metadata": {},
     "output_type": "execute_result"
    }
   ],
   "source": [
    "response = context_forecaster.predict(\n",
    "    question=sample_question,\n",
    "    choices=sample_choices,\n",
    "    context=sample_context\n",
    ")\n",
    "\n",
    "response"
   ]
  },
  {
   "cell_type": "code",
   "execution_count": 40,
   "metadata": {},
   "outputs": [
    {
     "name": "stderr",
     "output_type": "stream",
     "text": [
      "  2%|▏         | 2/98 [00:01<00:55,  1.73it/s]Retrying langchain.chat_models.openai.ChatOpenAI.completion_with_retry.<locals>._completion_with_retry in 1.0 seconds as it raised Timeout: Request timed out: HTTPSConnectionPool(host='capstone-openai.openai.azure.com', port=443): Read timed out. (read timeout=10.0).\n",
      "Retrying langchain.chat_models.openai.ChatOpenAI.completion_with_retry.<locals>._completion_with_retry in 2.0 seconds as it raised Timeout: Request timed out: HTTPSConnectionPool(host='capstone-openai.openai.azure.com', port=443): Read timed out. (read timeout=10.0).\n",
      " 13%|█▎        | 13/98 [00:31<01:10,  1.21it/s]Retrying langchain.chat_models.openai.ChatOpenAI.completion_with_retry.<locals>._completion_with_retry in 1.0 seconds as it raised Timeout: Request timed out: HTTPSConnectionPool(host='capstone-openai.openai.azure.com', port=443): Read timed out. (read timeout=10.0).\n",
      " 20%|██        | 20/98 [00:47<01:28,  1.13s/it]Retrying langchain.chat_models.openai.ChatOpenAI.completion_with_retry.<locals>._completion_with_retry in 1.0 seconds as it raised Timeout: Request timed out: HTTPSConnectionPool(host='capstone-openai.openai.azure.com', port=443): Read timed out. (read timeout=10.0).\n",
      " 22%|██▏       | 22/98 [01:00<04:12,  3.33s/it]Retrying langchain.chat_models.openai.ChatOpenAI.completion_with_retry.<locals>._completion_with_retry in 1.0 seconds as it raised Timeout: Request timed out: HTTPSConnectionPool(host='capstone-openai.openai.azure.com', port=443): Read timed out. (read timeout=10.0).\n",
      " 24%|██▍       | 24/98 [01:12<05:14,  4.25s/it]Retrying langchain.chat_models.openai.ChatOpenAI.completion_with_retry.<locals>._completion_with_retry in 1.0 seconds as it raised Timeout: Request timed out: HTTPSConnectionPool(host='capstone-openai.openai.azure.com', port=443): Read timed out. (read timeout=10.0).\n",
      " 27%|██▋       | 26/98 [01:25<05:43,  4.77s/it]Retrying langchain.chat_models.openai.ChatOpenAI.completion_with_retry.<locals>._completion_with_retry in 1.0 seconds as it raised Timeout: Request timed out: HTTPSConnectionPool(host='capstone-openai.openai.azure.com', port=443): Read timed out. (read timeout=10.0).\n",
      " 39%|███▉      | 38/98 [01:46<00:56,  1.06it/s]Retrying langchain.chat_models.openai.ChatOpenAI.completion_with_retry.<locals>._completion_with_retry in 1.0 seconds as it raised Timeout: Request timed out: HTTPSConnectionPool(host='capstone-openai.openai.azure.com', port=443): Read timed out. (read timeout=10.0).\n",
      " 47%|████▋     | 46/98 [02:04<00:55,  1.07s/it]Retrying langchain.chat_models.openai.ChatOpenAI.completion_with_retry.<locals>._completion_with_retry in 1.0 seconds as it raised Timeout: Request timed out: HTTPSConnectionPool(host='capstone-openai.openai.azure.com', port=443): Read timed out. (read timeout=10.0).\n",
      " 62%|██████▏   | 61/98 [02:25<00:23,  1.61it/s]Retrying langchain.chat_models.openai.ChatOpenAI.completion_with_retry.<locals>._completion_with_retry in 1.0 seconds as it raised Timeout: Request timed out: HTTPSConnectionPool(host='capstone-openai.openai.azure.com', port=443): Read timed out. (read timeout=10.0).\n",
      " 79%|███████▊  | 77/98 [02:45<00:10,  1.95it/s]Retrying langchain.chat_models.openai.ChatOpenAI.completion_with_retry.<locals>._completion_with_retry in 1.0 seconds as it raised Timeout: Request timed out: HTTPSConnectionPool(host='capstone-openai.openai.azure.com', port=443): Read timed out. (read timeout=10.0).\n",
      " 86%|████████▌ | 84/98 [03:00<00:13,  1.07it/s]Retrying langchain.chat_models.openai.ChatOpenAI.completion_with_retry.<locals>._completion_with_retry in 1.0 seconds as it raised Timeout: Request timed out: HTTPSConnectionPool(host='capstone-openai.openai.azure.com', port=443): Read timed out. (read timeout=10.0).\n",
      " 99%|█████████▉| 97/98 [03:18<00:00,  1.76it/s]Retrying langchain.chat_models.openai.ChatOpenAI.completion_with_retry.<locals>._completion_with_retry in 1.0 seconds as it raised Timeout: Request timed out: HTTPSConnectionPool(host='capstone-openai.openai.azure.com', port=443): Read timed out. (read timeout=10.0).\n",
      "100%|██████████| 98/98 [03:30<00:00,  2.15s/it]\n"
     ]
    }
   ],
   "source": [
    "context_results_df = context_forecaster.predict_df(\n",
    "    df=test_df,\n",
    "    id_col=\"id\",\n",
    "    question_col=\"question\",\n",
    "    choices_col=\"choices\",\n",
    "    context_col=\"context\"\n",
    ")"
   ]
  },
  {
   "cell_type": "code",
   "execution_count": 41,
   "metadata": {},
   "outputs": [
    {
     "data": {
      "text/plain": [
       "'../data/gpt-35-turbo_2023-08-06-12-46-48_results-98_context.json'"
      ]
     },
     "execution_count": 41,
     "metadata": {},
     "output_type": "execute_result"
    }
   ],
   "source": [
    "CONTEXT_RESULTS_SAVE_NAME = build_results_data_name(context_results_df, MODEL_NAME, \"context\")\n",
    "CONTEXT_RESULTS_SAVE_PATH = os.path.join(DATA_DIR, CONTEXT_RESULTS_SAVE_NAME)\n",
    "\n",
    "CONTEXT_RESULTS_SAVE_PATH"
   ]
  },
  {
   "cell_type": "code",
   "execution_count": 42,
   "metadata": {},
   "outputs": [
    {
     "name": "stdout",
     "output_type": "stream",
     "text": [
      "Saved results to: ../data/gpt-35-turbo_2023-08-06-12-46-48_results-98_context.json\n"
     ]
    }
   ],
   "source": [
    "save_results_data_json(context_results_df, save_path=CONTEXT_RESULTS_SAVE_PATH)"
   ]
  },
  {
   "cell_type": "markdown",
   "metadata": {},
   "source": [
    "### Evaluation"
   ]
  },
  {
   "cell_type": "code",
   "execution_count": 53,
   "metadata": {},
   "outputs": [],
   "source": [
    "context_evaluator = Evaluator(\n",
    "    input_df=test_df,\n",
    "    predictions_df=context_results_df,\n",
    ")"
   ]
  },
  {
   "cell_type": "code",
   "execution_count": 54,
   "metadata": {},
   "outputs": [
    {
     "data": {
      "text/html": [
       "<div>\n",
       "<style scoped>\n",
       "    .dataframe tbody tr th:only-of-type {\n",
       "        vertical-align: middle;\n",
       "    }\n",
       "\n",
       "    .dataframe tbody tr th {\n",
       "        vertical-align: top;\n",
       "    }\n",
       "\n",
       "    .dataframe thead th {\n",
       "        text-align: right;\n",
       "    }\n",
       "</style>\n",
       "<table border=\"1\" class=\"dataframe\">\n",
       "  <thead>\n",
       "    <tr style=\"text-align: right;\">\n",
       "      <th></th>\n",
       "      <th>top_k_majority_in_range</th>\n",
       "      <th>count</th>\n",
       "      <th>percentage</th>\n",
       "    </tr>\n",
       "  </thead>\n",
       "  <tbody>\n",
       "    <tr>\n",
       "      <th>0</th>\n",
       "      <td>False</td>\n",
       "      <td>71</td>\n",
       "      <td>72.45</td>\n",
       "    </tr>\n",
       "    <tr>\n",
       "      <th>1</th>\n",
       "      <td>True</td>\n",
       "      <td>27</td>\n",
       "      <td>27.55</td>\n",
       "    </tr>\n",
       "  </tbody>\n",
       "</table>\n",
       "</div>"
      ],
      "text/plain": [
       "   top_k_majority_in_range  count  percentage\n",
       "0                    False     71       72.45\n",
       "1                     True     27       27.55"
      ]
     },
     "execution_count": 54,
     "metadata": {},
     "output_type": "execute_result"
    }
   ],
   "source": [
    "context_in_range_counts = context_evaluator.get_in_range_prediction_counts(by_qtype=False)\n",
    "context_in_range_counts"
   ]
  },
  {
   "cell_type": "code",
   "execution_count": 55,
   "metadata": {},
   "outputs": [
    {
     "data": {
      "text/html": [
       "<div>\n",
       "<style scoped>\n",
       "    .dataframe tbody tr th:only-of-type {\n",
       "        vertical-align: middle;\n",
       "    }\n",
       "\n",
       "    .dataframe tbody tr th {\n",
       "        vertical-align: top;\n",
       "    }\n",
       "\n",
       "    .dataframe thead th {\n",
       "        text-align: right;\n",
       "    }\n",
       "</style>\n",
       "<table border=\"1\" class=\"dataframe\">\n",
       "  <thead>\n",
       "    <tr style=\"text-align: right;\">\n",
       "      <th></th>\n",
       "      <th>qtype</th>\n",
       "      <th>top_k_majority_in_range</th>\n",
       "      <th>count</th>\n",
       "      <th>percentage</th>\n",
       "    </tr>\n",
       "  </thead>\n",
       "  <tbody>\n",
       "    <tr>\n",
       "      <th>0</th>\n",
       "      <td>mc</td>\n",
       "      <td>False</td>\n",
       "      <td>14</td>\n",
       "      <td>100.00</td>\n",
       "    </tr>\n",
       "    <tr>\n",
       "      <th>1</th>\n",
       "      <td>t/f</td>\n",
       "      <td>False</td>\n",
       "      <td>57</td>\n",
       "      <td>67.86</td>\n",
       "    </tr>\n",
       "    <tr>\n",
       "      <th>2</th>\n",
       "      <td>t/f</td>\n",
       "      <td>True</td>\n",
       "      <td>27</td>\n",
       "      <td>32.14</td>\n",
       "    </tr>\n",
       "  </tbody>\n",
       "</table>\n",
       "</div>"
      ],
      "text/plain": [
       "  qtype  top_k_majority_in_range  count  percentage\n",
       "0    mc                    False     14      100.00\n",
       "1   t/f                    False     57       67.86\n",
       "2   t/f                     True     27       32.14"
      ]
     },
     "execution_count": 55,
     "metadata": {},
     "output_type": "execute_result"
    }
   ],
   "source": [
    "context_evaluator.get_in_range_prediction_counts(by_qtype=True)"
   ]
  },
  {
   "cell_type": "markdown",
   "metadata": {},
   "source": [
    "### Save"
   ]
  },
  {
   "cell_type": "code",
   "execution_count": 56,
   "metadata": {},
   "outputs": [
    {
     "data": {
      "text/plain": [
       "'../data/gpt-35-turbo_2023-08-06-13-10-00_evaluation-98_context.json'"
      ]
     },
     "execution_count": 56,
     "metadata": {},
     "output_type": "execute_result"
    }
   ],
   "source": [
    "CONTEXT_EVALUATION_SAVE_NAME = build_evaluation_data_name(context_results_df, MODEL_NAME, \"context\")\n",
    "CONTEXT_EVALUATION_SAVE_PATH = os.path.join(DATA_DIR, CONTEXT_EVALUATION_SAVE_NAME)\n",
    "\n",
    "CONTEXT_EVALUATION_SAVE_PATH"
   ]
  },
  {
   "cell_type": "code",
   "execution_count": 57,
   "metadata": {},
   "outputs": [
    {
     "name": "stdout",
     "output_type": "stream",
     "text": [
      "Saved evaluation to: ../data/gpt-35-turbo_2023-08-06-13-10-00_evaluation-98_context.json\n"
     ]
    }
   ],
   "source": [
    "save_evaluation_data_json(context_in_range_counts, save_path=CONTEXT_EVALUATION_SAVE_PATH)"
   ]
  },
  {
   "cell_type": "markdown",
   "metadata": {},
   "source": [
    "## External Context"
   ]
  },
  {
   "cell_type": "markdown",
   "metadata": {},
   "source": [
    "### Prediction"
   ]
  },
  {
   "cell_type": "code",
   "execution_count": 86,
   "metadata": {},
   "outputs": [],
   "source": [
    "external_context_forecaster = ContextForecasterTopK(\n",
    "    chat=context_chat,\n",
    "    system_prompt=system_message_prompt,\n",
    "    human_prompt=human_context_message_prompt,\n",
    "    k=K_VALUE\n",
    ")"
   ]
  },
  {
   "cell_type": "code",
   "execution_count": 87,
   "metadata": {},
   "outputs": [
    {
     "name": "stdout",
     "output_type": "stream",
     "text": [
      "Sample question: Will the federal minimum wage increase in the United States before 2025?\n",
      "\n",
      "Sample choices: ['yes', 'no']\n",
      "\n",
      "Sample context:\n",
      "The federal minimum wage in the United States is currently $7.25 per hour, which has not been increased since 2009. There have been ongoing debates and discussions about increasing the minimum wage to $15 per hour, but it has not yet been passed into law. In March 2021, the House of Representatives passed the Raise the Wage Act, which would gradually increase the minimum wage to $15 per hour by 2025, but it has not yet been passed by the Senate. Therefore, it is uncertain whether the federal minimum wage will increase before 2025.\n"
     ]
    }
   ],
   "source": [
    "sample_idx = 50\n",
    "sample_question = test_df.iloc[sample_idx][\"question\"]\n",
    "sample_choices = test_df.iloc[sample_idx][\"choices\"]\n",
    "sample_context = test_df.iloc[sample_idx][\"external_context\"]\n",
    "\n",
    "print(f\"Sample question: {sample_question}\\n\")\n",
    "print(f\"Sample choices: {sample_choices}\\n\")\n",
    "print(f\"Sample context:\\n{sample_context}\")"
   ]
  },
  {
   "cell_type": "code",
   "execution_count": 88,
   "metadata": {},
   "outputs": [
    {
     "data": {
      "text/plain": [
       "{'question': 'Will the federal minimum wage increase in the United States before 2025?',\n",
       " 'choices': ['yes', 'no'],\n",
       " 'original_prediction': ['A - yes',\n",
       "  'A - yes',\n",
       "  'A - yes',\n",
       "  'A - yes',\n",
       "  'A - yes',\n",
       "  'A',\n",
       "  'A - yes',\n",
       "  'A - yes',\n",
       "  'A - yes',\n",
       "  'A',\n",
       "  'A - yes',\n",
       "  'A - yes',\n",
       "  'A - yes',\n",
       "  'A - yes',\n",
       "  'A - yes',\n",
       "  'A - yes',\n",
       "  'A - yes',\n",
       "  'A',\n",
       "  'A - yes',\n",
       "  'A - yes'],\n",
       " 'predicted_answer': 'A',\n",
       " 'predicted_answer_idx': 0,\n",
       " 'predicted_answer_text': 'yes',\n",
       " 'top_k_predicted_answers': ['A',\n",
       "  'A',\n",
       "  'A',\n",
       "  'A',\n",
       "  'A',\n",
       "  'A',\n",
       "  'A',\n",
       "  'A',\n",
       "  'A',\n",
       "  'A',\n",
       "  'A',\n",
       "  'A',\n",
       "  'A',\n",
       "  'A',\n",
       "  'A',\n",
       "  'A',\n",
       "  'A',\n",
       "  'A',\n",
       "  'A',\n",
       "  'A']}"
      ]
     },
     "execution_count": 88,
     "metadata": {},
     "output_type": "execute_result"
    }
   ],
   "source": [
    "response = external_context_forecaster.predict(\n",
    "    question=sample_question,\n",
    "    choices=sample_choices,\n",
    "    context=sample_context\n",
    ")\n",
    "\n",
    "response"
   ]
  },
  {
   "cell_type": "code",
   "execution_count": 89,
   "metadata": {},
   "outputs": [
    {
     "name": "stderr",
     "output_type": "stream",
     "text": [
      " 15%|█▌        | 15/98 [00:08<00:43,  1.90it/s]Retrying langchain.chat_models.openai.ChatOpenAI.completion_with_retry.<locals>._completion_with_retry in 1.0 seconds as it raised Timeout: Request timed out: HTTPSConnectionPool(host='capstone-openai.openai.azure.com', port=443): Read timed out. (read timeout=10.0).\n",
      " 18%|█▊        | 18/98 [00:21<02:55,  2.19s/it]Retrying langchain.chat_models.openai.ChatOpenAI.completion_with_retry.<locals>._completion_with_retry in 1.0 seconds as it raised Timeout: Request timed out: HTTPSConnectionPool(host='capstone-openai.openai.azure.com', port=443): Read timed out. (read timeout=10.0).\n",
      " 26%|██▌       | 25/98 [00:36<01:15,  1.04s/it]Retrying langchain.chat_models.openai.ChatOpenAI.completion_with_retry.<locals>._completion_with_retry in 1.0 seconds as it raised Timeout: Request timed out: HTTPSConnectionPool(host='capstone-openai.openai.azure.com', port=443): Read timed out. (read timeout=10.0).\n",
      "Retrying langchain.chat_models.openai.ChatOpenAI.completion_with_retry.<locals>._completion_with_retry in 2.0 seconds as it raised Timeout: Request timed out: HTTPSConnectionPool(host='capstone-openai.openai.azure.com', port=443): Read timed out. (read timeout=10.0).\n",
      " 29%|██▊       | 28/98 [01:01<05:01,  4.31s/it]Retrying langchain.chat_models.openai.ChatOpenAI.completion_with_retry.<locals>._completion_with_retry in 1.0 seconds as it raised Timeout: Request timed out: HTTPSConnectionPool(host='capstone-openai.openai.azure.com', port=443): Read timed out. (read timeout=10.0).\n",
      " 30%|██▉       | 29/98 [01:13<07:38,  6.64s/it]Retrying langchain.chat_models.openai.ChatOpenAI.completion_with_retry.<locals>._completion_with_retry in 1.0 seconds as it raised Timeout: Request timed out: HTTPSConnectionPool(host='capstone-openai.openai.azure.com', port=443): Read timed out. (read timeout=10.0).\n",
      " 39%|███▉      | 38/98 [01:32<01:13,  1.22s/it]Retrying langchain.chat_models.openai.ChatOpenAI.completion_with_retry.<locals>._completion_with_retry in 1.0 seconds as it raised Timeout: Request timed out: HTTPSConnectionPool(host='capstone-openai.openai.azure.com', port=443): Read timed out. (read timeout=10.0).\n",
      " 42%|████▏     | 41/98 [01:45<02:22,  2.51s/it]Retrying langchain.chat_models.openai.ChatOpenAI.completion_with_retry.<locals>._completion_with_retry in 1.0 seconds as it raised Timeout: Request timed out: HTTPSConnectionPool(host='capstone-openai.openai.azure.com', port=443): Read timed out. (read timeout=10.0).\n",
      " 44%|████▍     | 43/98 [01:59<03:41,  4.03s/it]Retrying langchain.chat_models.openai.ChatOpenAI.completion_with_retry.<locals>._completion_with_retry in 1.0 seconds as it raised Timeout: Request timed out: HTTPSConnectionPool(host='capstone-openai.openai.azure.com', port=443): Read timed out. (read timeout=10.0).\n",
      " 56%|█████▌    | 55/98 [02:17<00:24,  1.73it/s]Retrying langchain.chat_models.openai.ChatOpenAI.completion_with_retry.<locals>._completion_with_retry in 1.0 seconds as it raised Timeout: Request timed out: HTTPSConnectionPool(host='capstone-openai.openai.azure.com', port=443): Read timed out. (read timeout=10.0).\n",
      " 59%|█████▉    | 58/98 [02:30<01:29,  2.24s/it]Retrying langchain.chat_models.openai.ChatOpenAI.completion_with_retry.<locals>._completion_with_retry in 1.0 seconds as it raised Timeout: Request timed out: HTTPSConnectionPool(host='capstone-openai.openai.azure.com', port=443): Read timed out. (read timeout=10.0).\n",
      " 64%|██████▍   | 63/98 [02:44<01:01,  1.74s/it]Retrying langchain.chat_models.openai.ChatOpenAI.completion_with_retry.<locals>._completion_with_retry in 1.0 seconds as it raised Timeout: Request timed out: HTTPSConnectionPool(host='capstone-openai.openai.azure.com', port=443): Read timed out. (read timeout=10.0).\n",
      " 90%|████████▉ | 88/98 [03:07<00:04,  2.12it/s]Retrying langchain.chat_models.openai.ChatOpenAI.completion_with_retry.<locals>._completion_with_retry in 1.0 seconds as it raised Timeout: Request timed out: HTTPSConnectionPool(host='capstone-openai.openai.azure.com', port=443): Read timed out. (read timeout=10.0).\n",
      "100%|██████████| 98/98 [03:24<00:00,  2.08s/it]\n"
     ]
    }
   ],
   "source": [
    "external_context_results_df = external_context_forecaster.predict_df(\n",
    "    df=test_df,\n",
    "    id_col=\"id\",\n",
    "    question_col=\"question\",\n",
    "    choices_col=\"choices\",\n",
    "    context_col=\"external_context\"\n",
    ")"
   ]
  },
  {
   "cell_type": "code",
   "execution_count": 90,
   "metadata": {},
   "outputs": [
    {
     "data": {
      "text/plain": [
       "'../data/gpt-35-turbo_2023-08-06-13-25-24_results-98_external_context.json'"
      ]
     },
     "execution_count": 90,
     "metadata": {},
     "output_type": "execute_result"
    }
   ],
   "source": [
    "EXTERNAL_CONTEXT_RESULTS_SAVE_NAME = build_results_data_name(external_context_results_df, MODEL_NAME, \"external_context\")\n",
    "EXTERNAL_CONTEXT_RESULTS_SAVE_PATH = os.path.join(DATA_DIR, EXTERNAL_CONTEXT_RESULTS_SAVE_NAME)\n",
    "\n",
    "EXTERNAL_CONTEXT_RESULTS_SAVE_PATH"
   ]
  },
  {
   "cell_type": "code",
   "execution_count": 91,
   "metadata": {},
   "outputs": [
    {
     "name": "stdout",
     "output_type": "stream",
     "text": [
      "Saved results to: ../data/gpt-35-turbo_2023-08-06-13-25-24_results-98_external_context.json\n"
     ]
    }
   ],
   "source": [
    "save_results_data_json(external_context_results_df, save_path=EXTERNAL_CONTEXT_RESULTS_SAVE_PATH)"
   ]
  },
  {
   "cell_type": "markdown",
   "metadata": {},
   "source": [
    "### Evaluation"
   ]
  },
  {
   "cell_type": "code",
   "execution_count": 92,
   "metadata": {},
   "outputs": [],
   "source": [
    "external_context_evaluator = Evaluator(\n",
    "    input_df=test_df,\n",
    "    predictions_df=external_context_results_df,\n",
    ")"
   ]
  },
  {
   "cell_type": "code",
   "execution_count": 93,
   "metadata": {},
   "outputs": [
    {
     "data": {
      "text/html": [
       "<div>\n",
       "<style scoped>\n",
       "    .dataframe tbody tr th:only-of-type {\n",
       "        vertical-align: middle;\n",
       "    }\n",
       "\n",
       "    .dataframe tbody tr th {\n",
       "        vertical-align: top;\n",
       "    }\n",
       "\n",
       "    .dataframe thead th {\n",
       "        text-align: right;\n",
       "    }\n",
       "</style>\n",
       "<table border=\"1\" class=\"dataframe\">\n",
       "  <thead>\n",
       "    <tr style=\"text-align: right;\">\n",
       "      <th></th>\n",
       "      <th>top_k_majority_in_range</th>\n",
       "      <th>count</th>\n",
       "      <th>percentage</th>\n",
       "    </tr>\n",
       "  </thead>\n",
       "  <tbody>\n",
       "    <tr>\n",
       "      <th>0</th>\n",
       "      <td>False</td>\n",
       "      <td>68</td>\n",
       "      <td>69.39</td>\n",
       "    </tr>\n",
       "    <tr>\n",
       "      <th>1</th>\n",
       "      <td>True</td>\n",
       "      <td>30</td>\n",
       "      <td>30.61</td>\n",
       "    </tr>\n",
       "  </tbody>\n",
       "</table>\n",
       "</div>"
      ],
      "text/plain": [
       "   top_k_majority_in_range  count  percentage\n",
       "0                    False     68       69.39\n",
       "1                     True     30       30.61"
      ]
     },
     "execution_count": 93,
     "metadata": {},
     "output_type": "execute_result"
    }
   ],
   "source": [
    "external_context_in_range_counts = external_context_evaluator.get_in_range_prediction_counts(by_qtype=False)\n",
    "external_context_in_range_counts"
   ]
  },
  {
   "cell_type": "code",
   "execution_count": 94,
   "metadata": {},
   "outputs": [
    {
     "data": {
      "text/html": [
       "<div>\n",
       "<style scoped>\n",
       "    .dataframe tbody tr th:only-of-type {\n",
       "        vertical-align: middle;\n",
       "    }\n",
       "\n",
       "    .dataframe tbody tr th {\n",
       "        vertical-align: top;\n",
       "    }\n",
       "\n",
       "    .dataframe thead th {\n",
       "        text-align: right;\n",
       "    }\n",
       "</style>\n",
       "<table border=\"1\" class=\"dataframe\">\n",
       "  <thead>\n",
       "    <tr style=\"text-align: right;\">\n",
       "      <th></th>\n",
       "      <th>qtype</th>\n",
       "      <th>top_k_majority_in_range</th>\n",
       "      <th>count</th>\n",
       "      <th>percentage</th>\n",
       "    </tr>\n",
       "  </thead>\n",
       "  <tbody>\n",
       "    <tr>\n",
       "      <th>0</th>\n",
       "      <td>mc</td>\n",
       "      <td>False</td>\n",
       "      <td>14</td>\n",
       "      <td>100.00</td>\n",
       "    </tr>\n",
       "    <tr>\n",
       "      <th>1</th>\n",
       "      <td>t/f</td>\n",
       "      <td>False</td>\n",
       "      <td>54</td>\n",
       "      <td>64.29</td>\n",
       "    </tr>\n",
       "    <tr>\n",
       "      <th>2</th>\n",
       "      <td>t/f</td>\n",
       "      <td>True</td>\n",
       "      <td>30</td>\n",
       "      <td>35.71</td>\n",
       "    </tr>\n",
       "  </tbody>\n",
       "</table>\n",
       "</div>"
      ],
      "text/plain": [
       "  qtype  top_k_majority_in_range  count  percentage\n",
       "0    mc                    False     14      100.00\n",
       "1   t/f                    False     54       64.29\n",
       "2   t/f                     True     30       35.71"
      ]
     },
     "execution_count": 94,
     "metadata": {},
     "output_type": "execute_result"
    }
   ],
   "source": [
    "external_context_evaluator.get_in_range_prediction_counts(by_qtype=True)"
   ]
  },
  {
   "cell_type": "markdown",
   "metadata": {},
   "source": [
    "### Save"
   ]
  },
  {
   "cell_type": "code",
   "execution_count": 95,
   "metadata": {},
   "outputs": [
    {
     "data": {
      "text/plain": [
       "'../data/gpt-35-turbo_2023-08-06-13-25-25_evaluation-98_external_context.json'"
      ]
     },
     "execution_count": 95,
     "metadata": {},
     "output_type": "execute_result"
    }
   ],
   "source": [
    "EXTERNAL_CONTEXT_EVALUATION_SAVE_NAME = build_evaluation_data_name(external_context_results_df, MODEL_NAME, \"external_context\")\n",
    "EXTERNAL_CONTEXT_EVALUATION_SAVE_PATH = os.path.join(DATA_DIR, EXTERNAL_CONTEXT_EVALUATION_SAVE_NAME)\n",
    "\n",
    "EXTERNAL_CONTEXT_EVALUATION_SAVE_PATH"
   ]
  },
  {
   "cell_type": "code",
   "execution_count": 96,
   "metadata": {},
   "outputs": [
    {
     "name": "stdout",
     "output_type": "stream",
     "text": [
      "Saved evaluation to: ../data/gpt-35-turbo_2023-08-06-13-25-25_evaluation-98_external_context.json\n"
     ]
    }
   ],
   "source": [
    "save_evaluation_data_json(external_context_in_range_counts, save_path=EXTERNAL_CONTEXT_EVALUATION_SAVE_PATH)"
   ]
  },
  {
   "cell_type": "markdown",
   "metadata": {},
   "source": [
    "## Active Prompt Example"
   ]
  },
  {
   "cell_type": "code",
   "execution_count": 58,
   "metadata": {},
   "outputs": [],
   "source": [
    "class ExampleForecasterTopK(ForecasterTopK):\n",
    "    def generate_example(self, question: str, choices: list[str], answer: str):\n",
    "        \"\"\"\n",
    "        Generates an example for the language model.\n",
    "\n",
    "        Args:\n",
    "            question (str): A question.\n",
    "            choices (list): A list of choices.\n",
    "            answer (str): An answer.\n",
    "\n",
    "        Returns:\n",
    "            list: A list of messages, consisting of a human message and an AI message.\n",
    "        \"\"\"\n",
    "        vars = {\n",
    "            \"question\": question,\n",
    "            \"choices\": self.format_choices(choices),\n",
    "        }\n",
    "\n",
    "        human_message = self.human_prompt.format_messages(**vars)[0]\n",
    "        \n",
    "        formatted_answer = self.yes_no_to_letter(answer)\n",
    "        ai_message = AIMessage(content=formatted_answer)\n",
    "\n",
    "        return [human_message, ai_message]\n",
    "\n",
    "    def get_llm_response_with_example(self, vars: dict, examples: list):\n",
    "        \"\"\"\n",
    "        Returns a response from the language model in the form of a dictionary\n",
    "        with the original prediction and the cleaned predicted answer.\n",
    "\n",
    "        Args:\n",
    "            vars (dict): A dictionary with the question and choices.\n",
    "            examples (list): A list of examples, consisting of user messages\n",
    "                and assistant messages.\n",
    "        \"\"\"\n",
    "\n",
    "        batch_messages = [\n",
    "            [self.system_prompt.format_messages()[0]] + \\\n",
    "            [AIMessage(content=\"Sure, I'd love to help!\")] + \\\n",
    "            examples + \\\n",
    "            [self.human_prompt.format_messages(**vars)[0]]\n",
    "        ]\n",
    "        result = self.chat.generate(batch_messages)\n",
    "\n",
    "        original_prediction = [generation.text for generation in result.generations[0]]\n",
    "\n",
    "        predicted_answers = [self.clean_answer(prediction) \n",
    "                             for prediction in original_prediction]\n",
    "        \n",
    "        return {\n",
    "            \"original_prediction\": original_prediction,\n",
    "            \"top_k_predicted_answers\": predicted_answers,\n",
    "            \"predicted_answer\": self.majority_choice(predicted_answers)\n",
    "        }\n",
    "    \n",
    "    def predict(self, question: str, choices: list[str], example: dict):\n",
    "        \"\"\"\n",
    "        Uses the language model to predict an answer to a question and returns\n",
    "        a dictionary with the question, choices, context, and predicted answer.\n",
    "\n",
    "        Args:\n",
    "            question (str): A question.\n",
    "            choices (list): A list of choices.\n",
    "            example (dict): An example.\n",
    "        \"\"\"\n",
    "        vars = {\n",
    "            \"question\": question,\n",
    "            \"choices\": self.format_choices(choices)\n",
    "        }\n",
    "\n",
    "        example_exchange = self.generate_example(\n",
    "            question=example[\"example_question\"],\n",
    "            choices=example[\"example_choices\"],\n",
    "            answer=example[\"example_answer\"]\n",
    "        )\n",
    "\n",
    "        try:\n",
    "            results = self.get_llm_response_with_example(vars, example_exchange)\n",
    "            original_prediction = results[\"original_prediction\"]\n",
    "            predicted_answer = results[\"predicted_answer\"]\n",
    "            predicted_answer_idx = self.idx_from_letter(predicted_answer)\n",
    "        except Exception as e:\n",
    "            print(e)\n",
    "            original_prediction = None\n",
    "            predicted_answer = None\n",
    "            predicted_answer_idx = None\n",
    "\n",
    "        if predicted_answer_idx is None or predicted_answer_idx >= len(choices):\n",
    "            predicted_answer = None\n",
    "            predicted_answer_text = None\n",
    "            predicted_answer_idx = None\n",
    "        else:\n",
    "            predicted_answer_text = choices[predicted_answer_idx]\n",
    "\n",
    "        response = {\n",
    "            \"question\": question,\n",
    "            \"choices\": choices,\n",
    "            \"original_prediction\": original_prediction,\n",
    "            \"predicted_answer\": predicted_answer,\n",
    "            \"predicted_answer_idx\": predicted_answer_idx,\n",
    "            \"predicted_answer_text\": predicted_answer_text,\n",
    "            \"top_k_predicted_answers\": results[\"top_k_predicted_answers\"]\n",
    "        }\n",
    "\n",
    "        return response\n",
    "    \n",
    "    def predict_df(self, df: pd.DataFrame, id_col: str, question_col: str, choices_col: str, example_col: str):\n",
    "        \"\"\"\n",
    "        Uses the language model to predict answers to a dataframe of questions.\n",
    "        Returns a dataframe with the question id, question, choices, and predicted answer.\n",
    "\n",
    "        Args:\n",
    "            df (pd.DataFrame): A dataframe of questions.\n",
    "            id_col (str): The name of the column containing the question IDs.\n",
    "            question_col (str): The name of the column containing the questions.\n",
    "            choices_col (str): The name of the column containing the choices.\n",
    "            example_col (str): The name of the column containing the examples.\n",
    "        \"\"\"\n",
    "\n",
    "        predictions = []\n",
    "\n",
    "        for _, row in tqdm(df.iterrows(), total=df.shape[0]):\n",
    "            question = row[question_col]\n",
    "            choices = row[choices_col]\n",
    "            example = row[example_col]\n",
    "\n",
    "            error_count = 0\n",
    "            try:\n",
    "                prediction = self.predict(question, choices, example)\n",
    "            except Exception as e:\n",
    "                error_count += 1\n",
    "                print(f\"Error on question: {question}\")\n",
    "                print(f\"Error count: {error_count}\")\n",
    "                print(e)\n",
    "                continue\n",
    "\n",
    "            prediction[id_col] = row[id_col]\n",
    "            predictions.append(prediction)\n",
    "\n",
    "        predictions_df = pd.DataFrame(predictions)\n",
    "\n",
    "        return predictions_df"
   ]
  },
  {
   "cell_type": "markdown",
   "metadata": {},
   "source": [
    "### Prediction"
   ]
  },
  {
   "cell_type": "code",
   "execution_count": 59,
   "metadata": {},
   "outputs": [],
   "source": [
    "example_chat = AzureChatOpenAI(\n",
    "    deployment_name=DEPLOYMENT_NAME,\n",
    "    model_name=MODEL_NAME,\n",
    "    model_kwargs={\n",
    "        \"top_p\": TOP_P_VALUE,\n",
    "    },\n",
    "    max_tokens=MAX_PREDICTION_TOKENS,\n",
    "    request_timeout=REQUEST_TIMEOUT,\n",
    ")\n",
    "\n",
    "example_forecaster = ExampleForecasterTopK(\n",
    "    chat=example_chat,\n",
    "    system_prompt=system_message_prompt,\n",
    "    human_prompt=human_baseline_message_prompt,\n",
    "    k=K_VALUE\n",
    ")"
   ]
  },
  {
   "cell_type": "code",
   "execution_count": 60,
   "metadata": {},
   "outputs": [
    {
     "name": "stdout",
     "output_type": "stream",
     "text": [
      "Sample question: Will any country spend more on its military / defense in a given year before (and including) 2030 than the United States spends in the same year?\n",
      "\n",
      "Sample choices: ['yes', 'no']\n",
      "\n",
      "Sample best example:\n",
      "example_question: Will the U.S. enter a recession by July 1, 2019?\n",
      "example_choices: ['yes', 'no']\n",
      "example_answer: no\n",
      "majority_predicted_answer: A\n",
      "uncertainty: 0.0\n",
      "example_context: Entities:\n",
      "1. U.S. - Refers to the United States of America, a federal republic consisting of 50 states, a federal district, and various territories.\n",
      "2. Recession - A significant decline in economic activity, characterized by a decrease in gross domestic product (GDP), income, employment, industrial production, and sales.\n",
      "3. July 1, 2019 - Refers to a specific date.\n",
      "\n",
      "Definitions:\n",
      "1. U.S. - The United States is the world's largest economy by nominal GDP, with a highly diversified and technologically advanced economy.\n",
      "2. Recession - A recession is a business cycle contraction when there is a significant decline in economic activity lasting more than a few months, normally visible in real GDP, real income, employment, industrial production, and wholesale-retail sales. A recession is a period of declining economic performance across an entire economy, frequently defined as two consecutive quarters of GDP decline.\n",
      "3. July 1, 2019 - Refers to a specific date that has not yet occurred.\n",
      "\n",
      "Historical Background:\n",
      "1. U.S. - The United States has experienced numerous economic cycles throughout its history, including several recessions. The most recent recession occurred in 2008-2009, triggered by the subprime mortgage crisis and resulting in a global financial crisis.\n",
      "2. Recession - Economic recessions have occurred periodically throughout history, with some of the most notable ones being the Great Depression in the 1930s and the global financial crisis in 2008-2009.\n",
      "3. July 1, 2019 - Refers to a specific date that has not yet occurred.\n",
      "\n",
      "Important Economic/Societal Considerations:\n",
      "1. U.S. - The U.S. economy is highly diversified, with a significant portion of its GDP coming from the service sector. It is also heavily influenced by global economic conditions and policies, particularly those of China and the European Union.\n",
      "2. Recession - Recessions have significant impacts on the economy and society, including higher unemployment rates, decreased consumer and business spending, and decreased investment.\n",
      "3. July 1, 2019 - Refers to a specific date that has not yet occurred.\n",
      "\n",
      "Relationships:\n",
      "The U.S. economy is highly susceptible to economic cycles, including recessions. The occurrence of a recession would have significant impacts on the U.S. economy and society. The timing of a recession is difficult to predict, as it is influenced by a variety of economic and societal factors.\n",
      "\n",
      "Rank of Importance:\n",
      "1. Recession - The occurrence of a recession is the central focus of the question.\n",
      "2. U.S. - The U.S. economy is the subject of the question and is highly influential in the occurrence of a recession.\n",
      "3. July 1, 2019 - Refers to a specific date that is not particularly important to the question.\n"
     ]
    }
   ],
   "source": [
    "sample_idx = 48\n",
    "sample_question = test_df.iloc[sample_idx][\"question\"]\n",
    "sample_choices = test_df.iloc[sample_idx][\"choices\"]\n",
    "sample_answer = test_df.iloc[sample_idx][\"answer\"]\n",
    "sample_best_example = test_df.iloc[sample_idx][\"best_example\"]\n",
    "\n",
    "print(f\"Sample question: {sample_question}\\n\")\n",
    "print(f\"Sample choices: {sample_choices}\\n\")\n",
    "print(f\"Sample best example:\")\n",
    "for key, value in sample_best_example.items():\n",
    "    print(f\"{key}: {value}\")"
   ]
  },
  {
   "cell_type": "code",
   "execution_count": 61,
   "metadata": {},
   "outputs": [
    {
     "data": {
      "text/plain": [
       "{'question': 'Will any country spend more on its military / defense in a given year before (and including) 2030 than the United States spends in the same year?',\n",
       " 'choices': ['yes', 'no'],\n",
       " 'original_prediction': ['A',\n",
       "  'A',\n",
       "  'A',\n",
       "  'A',\n",
       "  'A',\n",
       "  'A',\n",
       "  'A',\n",
       "  'A',\n",
       "  'A',\n",
       "  'A',\n",
       "  'A',\n",
       "  'A',\n",
       "  'A',\n",
       "  'A',\n",
       "  'A',\n",
       "  'A',\n",
       "  'A',\n",
       "  'A',\n",
       "  'A',\n",
       "  'A'],\n",
       " 'predicted_answer': 'A',\n",
       " 'predicted_answer_idx': 0,\n",
       " 'predicted_answer_text': 'yes',\n",
       " 'top_k_predicted_answers': ['A',\n",
       "  'A',\n",
       "  'A',\n",
       "  'A',\n",
       "  'A',\n",
       "  'A',\n",
       "  'A',\n",
       "  'A',\n",
       "  'A',\n",
       "  'A',\n",
       "  'A',\n",
       "  'A',\n",
       "  'A',\n",
       "  'A',\n",
       "  'A',\n",
       "  'A',\n",
       "  'A',\n",
       "  'A',\n",
       "  'A',\n",
       "  'A']}"
      ]
     },
     "execution_count": 61,
     "metadata": {},
     "output_type": "execute_result"
    }
   ],
   "source": [
    "response = example_forecaster.predict(\n",
    "    question=sample_question,\n",
    "    choices=sample_choices,\n",
    "    example=sample_best_example\n",
    ")\n",
    "\n",
    "response"
   ]
  },
  {
   "cell_type": "code",
   "execution_count": 62,
   "metadata": {},
   "outputs": [
    {
     "name": "stderr",
     "output_type": "stream",
     "text": [
      " 21%|██▏       | 21/98 [00:14<00:54,  1.41it/s]Retrying langchain.chat_models.openai.ChatOpenAI.completion_with_retry.<locals>._completion_with_retry in 1.0 seconds as it raised Timeout: Request timed out: HTTPSConnectionPool(host='capstone-openai.openai.azure.com', port=443): Read timed out. (read timeout=10.0).\n",
      " 24%|██▍       | 24/98 [00:27<03:03,  2.48s/it]Retrying langchain.chat_models.openai.ChatOpenAI.completion_with_retry.<locals>._completion_with_retry in 1.0 seconds as it raised Timeout: Request timed out: HTTPSConnectionPool(host='capstone-openai.openai.azure.com', port=443): Read timed out. (read timeout=10.0).\n",
      " 34%|███▎      | 33/98 [00:45<01:03,  1.03it/s]Retrying langchain.chat_models.openai.ChatOpenAI.completion_with_retry.<locals>._completion_with_retry in 1.0 seconds as it raised Timeout: Request timed out: HTTPSConnectionPool(host='capstone-openai.openai.azure.com', port=443): Read timed out. (read timeout=10.0).\n",
      " 40%|███▉      | 39/98 [01:02<01:18,  1.34s/it]Retrying langchain.chat_models.openai.ChatOpenAI.completion_with_retry.<locals>._completion_with_retry in 1.0 seconds as it raised Timeout: Request timed out: HTTPSConnectionPool(host='capstone-openai.openai.azure.com', port=443): Read timed out. (read timeout=10.0).\n",
      " 68%|██████▊   | 67/98 [01:28<00:14,  2.08it/s]Retrying langchain.chat_models.openai.ChatOpenAI.completion_with_retry.<locals>._completion_with_retry in 1.0 seconds as it raised Timeout: Request timed out: HTTPSConnectionPool(host='capstone-openai.openai.azure.com', port=443): Read timed out. (read timeout=10.0).\n",
      " 93%|█████████▎| 91/98 [01:55<00:03,  1.78it/s]Retrying langchain.chat_models.openai.ChatOpenAI.completion_with_retry.<locals>._completion_with_retry in 1.0 seconds as it raised Timeout: Request timed out: HTTPSConnectionPool(host='capstone-openai.openai.azure.com', port=443): Read timed out. (read timeout=10.0).\n",
      "100%|██████████| 98/98 [02:11<00:00,  1.34s/it]\n"
     ]
    }
   ],
   "source": [
    "example_results_df = example_forecaster.predict_df(\n",
    "    df=test_df,\n",
    "    id_col=\"id\",\n",
    "    question_col=\"question\",\n",
    "    choices_col=\"choices\",\n",
    "    example_col=\"best_example\"\n",
    ")"
   ]
  },
  {
   "cell_type": "code",
   "execution_count": 63,
   "metadata": {},
   "outputs": [
    {
     "data": {
      "text/plain": [
       "'../data/gpt-35-turbo_2023-08-06-13-12-27_results-98_example.json'"
      ]
     },
     "execution_count": 63,
     "metadata": {},
     "output_type": "execute_result"
    }
   ],
   "source": [
    "EXAMPLE_RESULTS_SAVE_NAME = build_results_data_name(example_results_df, MODEL_NAME, \"example\")\n",
    "EXAMPLE_RESULTS_SAVE_PATH = os.path.join(DATA_DIR, EXAMPLE_RESULTS_SAVE_NAME)\n",
    "\n",
    "EXAMPLE_RESULTS_SAVE_PATH"
   ]
  },
  {
   "cell_type": "code",
   "execution_count": 64,
   "metadata": {},
   "outputs": [
    {
     "name": "stdout",
     "output_type": "stream",
     "text": [
      "Saved results to: ../data/gpt-35-turbo_2023-08-06-13-12-27_results-98_example.json\n"
     ]
    }
   ],
   "source": [
    "save_results_data_json(example_results_df, save_path=EXAMPLE_RESULTS_SAVE_PATH)"
   ]
  },
  {
   "cell_type": "markdown",
   "metadata": {},
   "source": [
    "### Evaluation"
   ]
  },
  {
   "cell_type": "code",
   "execution_count": 65,
   "metadata": {},
   "outputs": [],
   "source": [
    "example_evaluator = Evaluator(\n",
    "    input_df=test_df,\n",
    "    predictions_df=example_results_df,\n",
    ")"
   ]
  },
  {
   "cell_type": "code",
   "execution_count": 66,
   "metadata": {},
   "outputs": [
    {
     "data": {
      "text/html": [
       "<div>\n",
       "<style scoped>\n",
       "    .dataframe tbody tr th:only-of-type {\n",
       "        vertical-align: middle;\n",
       "    }\n",
       "\n",
       "    .dataframe tbody tr th {\n",
       "        vertical-align: top;\n",
       "    }\n",
       "\n",
       "    .dataframe thead th {\n",
       "        text-align: right;\n",
       "    }\n",
       "</style>\n",
       "<table border=\"1\" class=\"dataframe\">\n",
       "  <thead>\n",
       "    <tr style=\"text-align: right;\">\n",
       "      <th></th>\n",
       "      <th>top_k_majority_in_range</th>\n",
       "      <th>count</th>\n",
       "      <th>percentage</th>\n",
       "    </tr>\n",
       "  </thead>\n",
       "  <tbody>\n",
       "    <tr>\n",
       "      <th>0</th>\n",
       "      <td>False</td>\n",
       "      <td>74</td>\n",
       "      <td>75.51</td>\n",
       "    </tr>\n",
       "    <tr>\n",
       "      <th>1</th>\n",
       "      <td>True</td>\n",
       "      <td>24</td>\n",
       "      <td>24.49</td>\n",
       "    </tr>\n",
       "  </tbody>\n",
       "</table>\n",
       "</div>"
      ],
      "text/plain": [
       "   top_k_majority_in_range  count  percentage\n",
       "0                    False     74       75.51\n",
       "1                     True     24       24.49"
      ]
     },
     "execution_count": 66,
     "metadata": {},
     "output_type": "execute_result"
    }
   ],
   "source": [
    "example_in_range_counts = example_evaluator.get_in_range_prediction_counts(by_qtype=False)\n",
    "example_in_range_counts"
   ]
  },
  {
   "cell_type": "code",
   "execution_count": 67,
   "metadata": {},
   "outputs": [
    {
     "data": {
      "text/html": [
       "<div>\n",
       "<style scoped>\n",
       "    .dataframe tbody tr th:only-of-type {\n",
       "        vertical-align: middle;\n",
       "    }\n",
       "\n",
       "    .dataframe tbody tr th {\n",
       "        vertical-align: top;\n",
       "    }\n",
       "\n",
       "    .dataframe thead th {\n",
       "        text-align: right;\n",
       "    }\n",
       "</style>\n",
       "<table border=\"1\" class=\"dataframe\">\n",
       "  <thead>\n",
       "    <tr style=\"text-align: right;\">\n",
       "      <th></th>\n",
       "      <th>qtype</th>\n",
       "      <th>top_k_majority_in_range</th>\n",
       "      <th>count</th>\n",
       "      <th>percentage</th>\n",
       "    </tr>\n",
       "  </thead>\n",
       "  <tbody>\n",
       "    <tr>\n",
       "      <th>0</th>\n",
       "      <td>mc</td>\n",
       "      <td>False</td>\n",
       "      <td>13</td>\n",
       "      <td>92.86</td>\n",
       "    </tr>\n",
       "    <tr>\n",
       "      <th>1</th>\n",
       "      <td>mc</td>\n",
       "      <td>True</td>\n",
       "      <td>1</td>\n",
       "      <td>7.14</td>\n",
       "    </tr>\n",
       "    <tr>\n",
       "      <th>2</th>\n",
       "      <td>t/f</td>\n",
       "      <td>False</td>\n",
       "      <td>61</td>\n",
       "      <td>72.62</td>\n",
       "    </tr>\n",
       "    <tr>\n",
       "      <th>3</th>\n",
       "      <td>t/f</td>\n",
       "      <td>True</td>\n",
       "      <td>23</td>\n",
       "      <td>27.38</td>\n",
       "    </tr>\n",
       "  </tbody>\n",
       "</table>\n",
       "</div>"
      ],
      "text/plain": [
       "  qtype  top_k_majority_in_range  count  percentage\n",
       "0    mc                    False     13       92.86\n",
       "1    mc                     True      1        7.14\n",
       "2   t/f                    False     61       72.62\n",
       "3   t/f                     True     23       27.38"
      ]
     },
     "execution_count": 67,
     "metadata": {},
     "output_type": "execute_result"
    }
   ],
   "source": [
    "example_evaluator.get_in_range_prediction_counts(by_qtype=True)"
   ]
  },
  {
   "cell_type": "markdown",
   "metadata": {},
   "source": [
    "### Save"
   ]
  },
  {
   "cell_type": "code",
   "execution_count": 68,
   "metadata": {},
   "outputs": [
    {
     "data": {
      "text/plain": [
       "'../data/gpt-35-turbo_2023-08-06-13-14-22_evaluation-98_example.json'"
      ]
     },
     "execution_count": 68,
     "metadata": {},
     "output_type": "execute_result"
    }
   ],
   "source": [
    "EXAMPLE_EVALUATION_SAVE_NAME = build_evaluation_data_name(example_results_df, MODEL_NAME, \"example\")\n",
    "EXAMPLE_EVALUATION_SAVE_PATH = os.path.join(DATA_DIR, EXAMPLE_EVALUATION_SAVE_NAME)\n",
    "\n",
    "EXAMPLE_EVALUATION_SAVE_PATH"
   ]
  },
  {
   "cell_type": "code",
   "execution_count": 69,
   "metadata": {},
   "outputs": [
    {
     "name": "stdout",
     "output_type": "stream",
     "text": [
      "Saved evaluation to: ../data/gpt-35-turbo_2023-08-06-13-14-22_evaluation-98_example.json\n"
     ]
    }
   ],
   "source": [
    "save_evaluation_data_json(example_in_range_counts, save_path=EXAMPLE_EVALUATION_SAVE_PATH)"
   ]
  },
  {
   "cell_type": "markdown",
   "metadata": {},
   "source": [
    "## Internal Context + Example"
   ]
  },
  {
   "cell_type": "code",
   "execution_count": 70,
   "metadata": {},
   "outputs": [],
   "source": [
    "class ContextExampleForecasterTopK(ForecasterTopK):\n",
    "    def generate_example(self, question: str, choices: list[str], answer: str, context: str = None):\n",
    "        \"\"\"\n",
    "        Generates an example for the language model.\n",
    "\n",
    "        Args:\n",
    "            question (str): A question.\n",
    "            choices (list): A list of choices.\n",
    "            answer (str): An answer.\n",
    "            context (str): Context for the question.\n",
    "\n",
    "        Returns:\n",
    "            list: A list of messages, consisting of a human message and an AI message.\n",
    "        \"\"\"\n",
    "        if context is None or context == \"\":\n",
    "            context = \"\"\n",
    "\n",
    "        vars = {\n",
    "            \"question\": question,\n",
    "            \"choices\": self.format_choices(choices),\n",
    "            \"context\": context\n",
    "        }\n",
    "\n",
    "        human_message = self.human_prompt.format_messages(**vars)[0]\n",
    "        \n",
    "        formatted_answer = self.yes_no_to_letter(answer)\n",
    "        ai_message = AIMessage(content=formatted_answer)\n",
    "\n",
    "        return [human_message, ai_message]\n",
    "\n",
    "    def get_llm_response_with_example(self, vars: dict, examples: list):\n",
    "        \"\"\"\n",
    "        Returns a response from the language model in the form of a dictionary\n",
    "        with the original prediction and the cleaned predicted answer.\n",
    "\n",
    "        Args:\n",
    "            vars (dict): A dictionary with the question and choices.\n",
    "            examples (list): A list of examples, consisting of user messages\n",
    "                and assistant messages.\n",
    "        \"\"\"\n",
    "\n",
    "        batch_messages = [\n",
    "            [self.system_prompt.format_messages()[0]] + \\\n",
    "            [AIMessage(content=\"Sure, I'd love to help!\")] + \\\n",
    "            examples + \\\n",
    "            [self.human_prompt.format_messages(**vars)[0]]\n",
    "        ]\n",
    "        result = self.chat.generate(batch_messages)\n",
    "\n",
    "        original_prediction = [generation.text for generation in result.generations[0]]\n",
    "\n",
    "        predicted_answers = [self.clean_answer(prediction) \n",
    "                             for prediction in original_prediction]\n",
    "        \n",
    "        return {\n",
    "            \"original_prediction\": original_prediction,\n",
    "            \"top_k_predicted_answers\": predicted_answers,\n",
    "            \"predicted_answer\": self.majority_choice(predicted_answers)\n",
    "        }\n",
    "    \n",
    "    def predict(self, question: str, choices: list[str], context: str, example: dict):\n",
    "        \"\"\"\n",
    "        Uses the language model to predict an answer to a question and returns\n",
    "        a dictionary with the question, choices, context, and predicted answer.\n",
    "\n",
    "        Args:\n",
    "            question (str): A question.\n",
    "            choices (list): A list of choices.\n",
    "            context (str): Context for the question.\n",
    "            example (dict): An example.\n",
    "        \"\"\"\n",
    "        vars = {\n",
    "            \"question\": question,\n",
    "            \"choices\": self.format_choices(choices),\n",
    "            \"context\": context\n",
    "        }\n",
    "\n",
    "        example_exchange = self.generate_example(\n",
    "            question=example[\"example_question\"],\n",
    "            choices=example[\"example_choices\"],\n",
    "            answer=example[\"example_answer\"],\n",
    "            context=example[\"example_context\"]\n",
    "        )\n",
    "\n",
    "        try:\n",
    "            results = self.get_llm_response_with_example(vars, example_exchange)\n",
    "            original_prediction = results[\"original_prediction\"]\n",
    "            predicted_answer = results[\"predicted_answer\"]\n",
    "            predicted_answer_idx = self.idx_from_letter(predicted_answer)\n",
    "        except Exception as e:\n",
    "            print(e)\n",
    "            original_prediction = None\n",
    "            predicted_answer = None\n",
    "            predicted_answer_idx = None\n",
    "\n",
    "        if predicted_answer_idx is None or predicted_answer_idx >= len(choices):\n",
    "            predicted_answer = None\n",
    "            predicted_answer_text = None\n",
    "            predicted_answer_idx = None\n",
    "        else:\n",
    "            predicted_answer_text = choices[predicted_answer_idx]\n",
    "\n",
    "        response = {\n",
    "            \"question\": question,\n",
    "            \"choices\": choices,\n",
    "            \"original_prediction\": original_prediction,\n",
    "            \"predicted_answer\": predicted_answer,\n",
    "            \"predicted_answer_idx\": predicted_answer_idx,\n",
    "            \"predicted_answer_text\": predicted_answer_text,\n",
    "            \"top_k_predicted_answers\": results[\"top_k_predicted_answers\"]\n",
    "        }\n",
    "\n",
    "        return response\n",
    "    \n",
    "    def predict_df(self, df: pd.DataFrame, id_col: str, question_col: str, \n",
    "                   choices_col: str, context_col: str, example_col: str):\n",
    "        \"\"\"\n",
    "        Uses the language model to predict answers to a dataframe of questions.\n",
    "        Returns a dataframe with the question id, question, choices, and predicted answer.\n",
    "\n",
    "        Args:\n",
    "            df (pd.DataFrame): A dataframe of questions.\n",
    "            id_col (str): The name of the column containing the question IDs.\n",
    "            question_col (str): The name of the column containing the questions.\n",
    "            choices_col (str): The name of the column containing the choices.\n",
    "            context_col (str): The name of the column containing the context.\n",
    "            example_col (str): The name of the column containing the examples.\n",
    "        \"\"\"\n",
    "\n",
    "        predictions = []\n",
    "\n",
    "        for _, row in tqdm(df.iterrows(), total=df.shape[0]):\n",
    "            question = row[question_col]\n",
    "            choices = row[choices_col]\n",
    "            context = row[context_col]\n",
    "            example = row[example_col]\n",
    "\n",
    "            error_count = 0\n",
    "            try:\n",
    "                prediction = self.predict(question, choices, context, example)\n",
    "            except Exception as e:\n",
    "                error_count += 1\n",
    "                print(f\"Error on question: {question}\")\n",
    "                print(f\"Error count: {error_count}\")\n",
    "                print(e)\n",
    "                continue\n",
    "\n",
    "            prediction[id_col] = row[id_col]\n",
    "            predictions.append(prediction)\n",
    "\n",
    "        predictions_df = pd.DataFrame(predictions)\n",
    "\n",
    "        return predictions_df"
   ]
  },
  {
   "cell_type": "markdown",
   "metadata": {},
   "source": [
    "### Prediction"
   ]
  },
  {
   "cell_type": "code",
   "execution_count": 71,
   "metadata": {},
   "outputs": [],
   "source": [
    "context_example_chat = AzureChatOpenAI(\n",
    "    deployment_name=DEPLOYMENT_NAME,\n",
    "    model_name=MODEL_NAME,\n",
    "    model_kwargs={\n",
    "        \"top_p\": TOP_P_VALUE,\n",
    "    },\n",
    "    max_tokens=MAX_PREDICTION_TOKENS,\n",
    "    request_timeout=REQUEST_TIMEOUT,\n",
    ")\n",
    "\n",
    "context_example_forecaster = ContextExampleForecasterTopK(\n",
    "    chat=context_example_chat,\n",
    "    system_prompt=system_message_prompt,\n",
    "    human_prompt=human_context_message_prompt,\n",
    "    k=K_VALUE\n",
    ")"
   ]
  },
  {
   "cell_type": "code",
   "execution_count": 72,
   "metadata": {},
   "outputs": [
    {
     "name": "stdout",
     "output_type": "stream",
     "text": [
      "Sample question: Will any country spend more on its military / defense in a given year before (and including) 2030 than the United States spends in the same year?\n",
      "\n",
      "Sample choices: ['yes', 'no']\n",
      "\n",
      "Sample context:\n",
      "Entities:\n",
      "- United States: a country in North America\n",
      "- Military/Defense: the government department responsible for the country's armed forces and their activities\n",
      "- Other countries: any other country in the world that has a military or defense budget\n",
      "\n",
      "Dates:\n",
      "- Before (and including) 2030: the time period before and up to the year 2030\n",
      "\n",
      "Locations:\n",
      "- North America: a continent that includes Canada, the United States, and Mexico\n",
      "- Other countries: any other country in the world\n",
      "\n",
      "Historical background:\n",
      "The United States has consistently been the world's largest military spender since the end of World War II. According to the Stockholm International Peace Research Institute (SIPRI), the US accounted for 38% of global military spending in 2020. The US spends more on its military than the next ten countries combined.\n",
      "\n",
      "Special terms:\n",
      "- Military spending: the amount of money a country allocates to its armed forces and their activities\n",
      "- Budget: an estimate of income and expenditure for a set period of time\n",
      "- Global military spending: the total amount of money spent on military by all countries in the world\n",
      "\n",
      "Rank of importance:\n",
      "1. United States\n",
      "2. Military/Defense\n",
      "3. Other countries\n",
      "4. Before (and including) 2030\n",
      "5. North America\n",
      "6. Global military spending\n",
      "7. Budget\n",
      "8. Military spending\n",
      "\n",
      "Sample best example:\n",
      "example_question: Will the U.S. enter a recession by July 1, 2019?\n",
      "example_choices: ['yes', 'no']\n",
      "example_answer: no\n",
      "majority_predicted_answer: A\n",
      "uncertainty: 0.0\n",
      "example_context: Entities:\n",
      "1. U.S. - Refers to the United States of America, a federal republic consisting of 50 states, a federal district, and various territories.\n",
      "2. Recession - A significant decline in economic activity, characterized by a decrease in gross domestic product (GDP), income, employment, industrial production, and sales.\n",
      "3. July 1, 2019 - Refers to a specific date.\n",
      "\n",
      "Definitions:\n",
      "1. U.S. - The United States is the world's largest economy by nominal GDP, with a highly diversified and technologically advanced economy.\n",
      "2. Recession - A recession is a business cycle contraction when there is a significant decline in economic activity lasting more than a few months, normally visible in real GDP, real income, employment, industrial production, and wholesale-retail sales. A recession is a period of declining economic performance across an entire economy, frequently defined as two consecutive quarters of GDP decline.\n",
      "3. July 1, 2019 - Refers to a specific date that has not yet occurred.\n",
      "\n",
      "Historical Background:\n",
      "1. U.S. - The United States has experienced numerous economic cycles throughout its history, including several recessions. The most recent recession occurred in 2008-2009, triggered by the subprime mortgage crisis and resulting in a global financial crisis.\n",
      "2. Recession - Economic recessions have occurred periodically throughout history, with some of the most notable ones being the Great Depression in the 1930s and the global financial crisis in 2008-2009.\n",
      "3. July 1, 2019 - Refers to a specific date that has not yet occurred.\n",
      "\n",
      "Important Economic/Societal Considerations:\n",
      "1. U.S. - The U.S. economy is highly diversified, with a significant portion of its GDP coming from the service sector. It is also heavily influenced by global economic conditions and policies, particularly those of China and the European Union.\n",
      "2. Recession - Recessions have significant impacts on the economy and society, including higher unemployment rates, decreased consumer and business spending, and decreased investment.\n",
      "3. July 1, 2019 - Refers to a specific date that has not yet occurred.\n",
      "\n",
      "Relationships:\n",
      "The U.S. economy is highly susceptible to economic cycles, including recessions. The occurrence of a recession would have significant impacts on the U.S. economy and society. The timing of a recession is difficult to predict, as it is influenced by a variety of economic and societal factors.\n",
      "\n",
      "Rank of Importance:\n",
      "1. Recession - The occurrence of a recession is the central focus of the question.\n",
      "2. U.S. - The U.S. economy is the subject of the question and is highly influential in the occurrence of a recession.\n",
      "3. July 1, 2019 - Refers to a specific date that is not particularly important to the question.\n"
     ]
    }
   ],
   "source": [
    "sample_idx = 48\n",
    "sample_question = test_df.iloc[sample_idx][\"question\"]\n",
    "sample_choices = test_df.iloc[sample_idx][\"choices\"]\n",
    "sample_context = test_df.iloc[sample_idx][\"context\"]\n",
    "sample_answer = test_df.iloc[sample_idx][\"answer\"]\n",
    "sample_best_example = test_df.iloc[sample_idx][\"best_example\"]\n",
    "\n",
    "print(f\"Sample question: {sample_question}\\n\")\n",
    "print(f\"Sample choices: {sample_choices}\\n\")\n",
    "print(f\"Sample context:\\n{sample_context}\\n\")\n",
    "print(f\"Sample best example:\")\n",
    "for key, value in sample_best_example.items():\n",
    "    print(f\"{key}: {value}\")"
   ]
  },
  {
   "cell_type": "code",
   "execution_count": 73,
   "metadata": {},
   "outputs": [
    {
     "data": {
      "text/plain": [
       "{'question': 'Will any country spend more on its military / defense in a given year before (and including) 2030 than the United States spends in the same year?',\n",
       " 'choices': ['yes', 'no'],\n",
       " 'original_prediction': ['B',\n",
       "  'B',\n",
       "  'B',\n",
       "  'B',\n",
       "  'B',\n",
       "  'B',\n",
       "  'B',\n",
       "  'B',\n",
       "  'B',\n",
       "  'B',\n",
       "  'B',\n",
       "  'B',\n",
       "  'B',\n",
       "  'B',\n",
       "  'B',\n",
       "  'B',\n",
       "  'B',\n",
       "  'B',\n",
       "  'B',\n",
       "  'B'],\n",
       " 'predicted_answer': 'B',\n",
       " 'predicted_answer_idx': 1,\n",
       " 'predicted_answer_text': 'no',\n",
       " 'top_k_predicted_answers': ['B',\n",
       "  'B',\n",
       "  'B',\n",
       "  'B',\n",
       "  'B',\n",
       "  'B',\n",
       "  'B',\n",
       "  'B',\n",
       "  'B',\n",
       "  'B',\n",
       "  'B',\n",
       "  'B',\n",
       "  'B',\n",
       "  'B',\n",
       "  'B',\n",
       "  'B',\n",
       "  'B',\n",
       "  'B',\n",
       "  'B',\n",
       "  'B']}"
      ]
     },
     "execution_count": 73,
     "metadata": {},
     "output_type": "execute_result"
    }
   ],
   "source": [
    "response = context_example_forecaster.predict(\n",
    "    question=sample_question,\n",
    "    choices=sample_choices,\n",
    "    context=sample_context,\n",
    "    example=sample_best_example\n",
    ")\n",
    "\n",
    "response"
   ]
  },
  {
   "cell_type": "code",
   "execution_count": 74,
   "metadata": {},
   "outputs": [
    {
     "name": "stderr",
     "output_type": "stream",
     "text": [
      "  6%|▌         | 6/98 [00:03<00:53,  1.73it/s]Retrying langchain.chat_models.openai.ChatOpenAI.completion_with_retry.<locals>._completion_with_retry in 1.0 seconds as it raised Timeout: Request timed out: HTTPSConnectionPool(host='capstone-openai.openai.azure.com', port=443): Read timed out. (read timeout=10.0).\n",
      " 47%|████▋     | 46/98 [00:42<00:39,  1.33it/s]Retrying langchain.chat_models.openai.ChatOpenAI.completion_with_retry.<locals>._completion_with_retry in 1.0 seconds as it raised Timeout: Request timed out: HTTPSConnectionPool(host='capstone-openai.openai.azure.com', port=443): Read timed out. (read timeout=10.0).\n",
      " 53%|█████▎    | 52/98 [00:58<01:02,  1.37s/it]Retrying langchain.chat_models.openai.ChatOpenAI.completion_with_retry.<locals>._completion_with_retry in 1.0 seconds as it raised Timeout: Request timed out: HTTPSConnectionPool(host='capstone-openai.openai.azure.com', port=443): Read timed out. (read timeout=10.0).\n",
      " 65%|██████▌   | 64/98 [01:17<00:25,  1.32it/s]Retrying langchain.chat_models.openai.ChatOpenAI.completion_with_retry.<locals>._completion_with_retry in 1.0 seconds as it raised Timeout: Request timed out: HTTPSConnectionPool(host='capstone-openai.openai.azure.com', port=443): Read timed out. (read timeout=10.0).\n",
      " 80%|███████▉  | 78/98 [01:37<00:11,  1.71it/s]Retrying langchain.chat_models.openai.ChatOpenAI.completion_with_retry.<locals>._completion_with_retry in 1.0 seconds as it raised Timeout: Request timed out: HTTPSConnectionPool(host='capstone-openai.openai.azure.com', port=443): Read timed out. (read timeout=10.0).\n",
      " 84%|████████▎ | 82/98 [01:51<00:29,  1.87s/it]Retrying langchain.chat_models.openai.ChatOpenAI.completion_with_retry.<locals>._completion_with_retry in 1.0 seconds as it raised Timeout: Request timed out: HTTPSConnectionPool(host='capstone-openai.openai.azure.com', port=443): Read timed out. (read timeout=10.0).\n",
      " 95%|█████████▍| 93/98 [02:10<00:04,  1.17it/s]Retrying langchain.chat_models.openai.ChatOpenAI.completion_with_retry.<locals>._completion_with_retry in 1.0 seconds as it raised Timeout: Request timed out: HTTPSConnectionPool(host='capstone-openai.openai.azure.com', port=443): Read timed out. (read timeout=10.0).\n",
      "100%|██████████| 98/98 [02:25<00:00,  1.48s/it]\n"
     ]
    }
   ],
   "source": [
    "context_example_results_df = context_example_forecaster.predict_df(\n",
    "    df=test_df,\n",
    "    id_col=\"id\",\n",
    "    question_col=\"question\",\n",
    "    choices_col=\"choices\",\n",
    "    context_col=\"context\",\n",
    "    example_col=\"best_example\"\n",
    ")"
   ]
  },
  {
   "cell_type": "code",
   "execution_count": 75,
   "metadata": {},
   "outputs": [
    {
     "data": {
      "text/plain": [
       "'../data/gpt-35-turbo_2023-08-06-13-16-54_results-98_context-example.json'"
      ]
     },
     "execution_count": 75,
     "metadata": {},
     "output_type": "execute_result"
    }
   ],
   "source": [
    "CONTEXT_EXAMPLE_RESULTS_SAVE_NAME = build_results_data_name(context_example_results_df, MODEL_NAME, \"context-example\")\n",
    "CONTEXT_EXAMPLE_RESULTS_SAVE_PATH = os.path.join(DATA_DIR, CONTEXT_EXAMPLE_RESULTS_SAVE_NAME)\n",
    "\n",
    "CONTEXT_EXAMPLE_RESULTS_SAVE_PATH"
   ]
  },
  {
   "cell_type": "code",
   "execution_count": 76,
   "metadata": {},
   "outputs": [
    {
     "name": "stdout",
     "output_type": "stream",
     "text": [
      "Saved results to: ../data/gpt-35-turbo_2023-08-06-13-16-54_results-98_context-example.json\n"
     ]
    }
   ],
   "source": [
    "save_results_data_json(context_example_results_df, save_path=CONTEXT_EXAMPLE_RESULTS_SAVE_PATH)"
   ]
  },
  {
   "cell_type": "markdown",
   "metadata": {},
   "source": [
    "### Evaluation"
   ]
  },
  {
   "cell_type": "code",
   "execution_count": 77,
   "metadata": {},
   "outputs": [],
   "source": [
    "context_example_evaluator = Evaluator(\n",
    "    input_df=test_df,\n",
    "    predictions_df=context_example_results_df,\n",
    ")"
   ]
  },
  {
   "cell_type": "code",
   "execution_count": 78,
   "metadata": {},
   "outputs": [
    {
     "data": {
      "text/html": [
       "<div>\n",
       "<style scoped>\n",
       "    .dataframe tbody tr th:only-of-type {\n",
       "        vertical-align: middle;\n",
       "    }\n",
       "\n",
       "    .dataframe tbody tr th {\n",
       "        vertical-align: top;\n",
       "    }\n",
       "\n",
       "    .dataframe thead th {\n",
       "        text-align: right;\n",
       "    }\n",
       "</style>\n",
       "<table border=\"1\" class=\"dataframe\">\n",
       "  <thead>\n",
       "    <tr style=\"text-align: right;\">\n",
       "      <th></th>\n",
       "      <th>top_k_majority_in_range</th>\n",
       "      <th>count</th>\n",
       "      <th>percentage</th>\n",
       "    </tr>\n",
       "  </thead>\n",
       "  <tbody>\n",
       "    <tr>\n",
       "      <th>0</th>\n",
       "      <td>False</td>\n",
       "      <td>70</td>\n",
       "      <td>71.43</td>\n",
       "    </tr>\n",
       "    <tr>\n",
       "      <th>1</th>\n",
       "      <td>True</td>\n",
       "      <td>28</td>\n",
       "      <td>28.57</td>\n",
       "    </tr>\n",
       "  </tbody>\n",
       "</table>\n",
       "</div>"
      ],
      "text/plain": [
       "   top_k_majority_in_range  count  percentage\n",
       "0                    False     70       71.43\n",
       "1                     True     28       28.57"
      ]
     },
     "execution_count": 78,
     "metadata": {},
     "output_type": "execute_result"
    }
   ],
   "source": [
    "context_example_in_range_counts = context_example_evaluator.get_in_range_prediction_counts(by_qtype=False)\n",
    "context_example_in_range_counts"
   ]
  },
  {
   "cell_type": "code",
   "execution_count": 79,
   "metadata": {},
   "outputs": [
    {
     "data": {
      "text/html": [
       "<div>\n",
       "<style scoped>\n",
       "    .dataframe tbody tr th:only-of-type {\n",
       "        vertical-align: middle;\n",
       "    }\n",
       "\n",
       "    .dataframe tbody tr th {\n",
       "        vertical-align: top;\n",
       "    }\n",
       "\n",
       "    .dataframe thead th {\n",
       "        text-align: right;\n",
       "    }\n",
       "</style>\n",
       "<table border=\"1\" class=\"dataframe\">\n",
       "  <thead>\n",
       "    <tr style=\"text-align: right;\">\n",
       "      <th></th>\n",
       "      <th>qtype</th>\n",
       "      <th>top_k_majority_in_range</th>\n",
       "      <th>count</th>\n",
       "      <th>percentage</th>\n",
       "    </tr>\n",
       "  </thead>\n",
       "  <tbody>\n",
       "    <tr>\n",
       "      <th>0</th>\n",
       "      <td>mc</td>\n",
       "      <td>False</td>\n",
       "      <td>14</td>\n",
       "      <td>100.00</td>\n",
       "    </tr>\n",
       "    <tr>\n",
       "      <th>1</th>\n",
       "      <td>t/f</td>\n",
       "      <td>False</td>\n",
       "      <td>56</td>\n",
       "      <td>66.67</td>\n",
       "    </tr>\n",
       "    <tr>\n",
       "      <th>2</th>\n",
       "      <td>t/f</td>\n",
       "      <td>True</td>\n",
       "      <td>28</td>\n",
       "      <td>33.33</td>\n",
       "    </tr>\n",
       "  </tbody>\n",
       "</table>\n",
       "</div>"
      ],
      "text/plain": [
       "  qtype  top_k_majority_in_range  count  percentage\n",
       "0    mc                    False     14      100.00\n",
       "1   t/f                    False     56       66.67\n",
       "2   t/f                     True     28       33.33"
      ]
     },
     "execution_count": 79,
     "metadata": {},
     "output_type": "execute_result"
    }
   ],
   "source": [
    "context_example_evaluator.get_in_range_prediction_counts(by_qtype=True)"
   ]
  },
  {
   "cell_type": "markdown",
   "metadata": {},
   "source": [
    "### Save"
   ]
  },
  {
   "cell_type": "code",
   "execution_count": 80,
   "metadata": {},
   "outputs": [
    {
     "data": {
      "text/plain": [
       "'../data/gpt-35-turbo_2023-08-06-13-16-54_evaluation-98_context-example.json'"
      ]
     },
     "execution_count": 80,
     "metadata": {},
     "output_type": "execute_result"
    }
   ],
   "source": [
    "CONTEXT_EXAMPLE_EVALUATION_SAVE_NAME = build_evaluation_data_name(context_example_results_df, MODEL_NAME, \"context-example\")\n",
    "CONTEXT_EXAMPLE_EVALUATION_SAVE_PATH = os.path.join(DATA_DIR, CONTEXT_EXAMPLE_EVALUATION_SAVE_NAME)\n",
    "\n",
    "CONTEXT_EXAMPLE_EVALUATION_SAVE_PATH"
   ]
  },
  {
   "cell_type": "code",
   "execution_count": 81,
   "metadata": {},
   "outputs": [
    {
     "name": "stdout",
     "output_type": "stream",
     "text": [
      "Saved evaluation to: ../data/gpt-35-turbo_2023-08-06-13-16-54_evaluation-98_context-example.json\n"
     ]
    }
   ],
   "source": [
    "save_evaluation_data_json(context_example_in_range_counts, save_path=CONTEXT_EXAMPLE_EVALUATION_SAVE_PATH)"
   ]
  },
  {
   "cell_type": "markdown",
   "metadata": {},
   "source": [
    "## Compare Results"
   ]
  },
  {
   "cell_type": "code",
   "execution_count": 97,
   "metadata": {},
   "outputs": [
    {
     "data": {
      "text/html": [
       "<div>\n",
       "<style scoped>\n",
       "    .dataframe tbody tr th:only-of-type {\n",
       "        vertical-align: middle;\n",
       "    }\n",
       "\n",
       "    .dataframe tbody tr th {\n",
       "        vertical-align: top;\n",
       "    }\n",
       "\n",
       "    .dataframe thead th {\n",
       "        text-align: right;\n",
       "    }\n",
       "</style>\n",
       "<table border=\"1\" class=\"dataframe\">\n",
       "  <thead>\n",
       "    <tr style=\"text-align: right;\">\n",
       "      <th></th>\n",
       "      <th>top_k_majority_in_range</th>\n",
       "      <th>count</th>\n",
       "      <th>percentage</th>\n",
       "      <th>model</th>\n",
       "    </tr>\n",
       "  </thead>\n",
       "  <tbody>\n",
       "    <tr>\n",
       "      <th>0</th>\n",
       "      <td>False</td>\n",
       "      <td>71</td>\n",
       "      <td>72.45</td>\n",
       "      <td>baseline</td>\n",
       "    </tr>\n",
       "    <tr>\n",
       "      <th>1</th>\n",
       "      <td>True</td>\n",
       "      <td>27</td>\n",
       "      <td>27.55</td>\n",
       "      <td>baseline</td>\n",
       "    </tr>\n",
       "    <tr>\n",
       "      <th>0</th>\n",
       "      <td>False</td>\n",
       "      <td>71</td>\n",
       "      <td>72.45</td>\n",
       "      <td>context</td>\n",
       "    </tr>\n",
       "    <tr>\n",
       "      <th>1</th>\n",
       "      <td>True</td>\n",
       "      <td>27</td>\n",
       "      <td>27.55</td>\n",
       "      <td>context</td>\n",
       "    </tr>\n",
       "    <tr>\n",
       "      <th>0</th>\n",
       "      <td>False</td>\n",
       "      <td>74</td>\n",
       "      <td>75.51</td>\n",
       "      <td>example</td>\n",
       "    </tr>\n",
       "    <tr>\n",
       "      <th>1</th>\n",
       "      <td>True</td>\n",
       "      <td>24</td>\n",
       "      <td>24.49</td>\n",
       "      <td>example</td>\n",
       "    </tr>\n",
       "    <tr>\n",
       "      <th>0</th>\n",
       "      <td>False</td>\n",
       "      <td>70</td>\n",
       "      <td>71.43</td>\n",
       "      <td>context_example</td>\n",
       "    </tr>\n",
       "    <tr>\n",
       "      <th>1</th>\n",
       "      <td>True</td>\n",
       "      <td>28</td>\n",
       "      <td>28.57</td>\n",
       "      <td>context_example</td>\n",
       "    </tr>\n",
       "    <tr>\n",
       "      <th>0</th>\n",
       "      <td>False</td>\n",
       "      <td>68</td>\n",
       "      <td>69.39</td>\n",
       "      <td>external_context</td>\n",
       "    </tr>\n",
       "    <tr>\n",
       "      <th>1</th>\n",
       "      <td>True</td>\n",
       "      <td>30</td>\n",
       "      <td>30.61</td>\n",
       "      <td>external_context</td>\n",
       "    </tr>\n",
       "  </tbody>\n",
       "</table>\n",
       "</div>"
      ],
      "text/plain": [
       "   top_k_majority_in_range  count  percentage             model\n",
       "0                    False     71       72.45          baseline\n",
       "1                     True     27       27.55          baseline\n",
       "0                    False     71       72.45           context\n",
       "1                     True     27       27.55           context\n",
       "0                    False     74       75.51           example\n",
       "1                     True     24       24.49           example\n",
       "0                    False     70       71.43   context_example\n",
       "1                     True     28       28.57   context_example\n",
       "0                    False     68       69.39  external_context\n",
       "1                     True     30       30.61  external_context"
      ]
     },
     "execution_count": 97,
     "metadata": {},
     "output_type": "execute_result"
    }
   ],
   "source": [
    "# merge results counts with new column called \"model\"\n",
    "baseline_in_range_counts[\"model\"] = \"baseline\"\n",
    "context_in_range_counts[\"model\"] = \"context\"\n",
    "external_context_in_range_counts[\"model\"] = \"external_context\"\n",
    "example_in_range_counts[\"model\"] = \"example\"\n",
    "context_example_in_range_counts[\"model\"] = \"context_example\"\n",
    "\n",
    "# combine baseline and context counts\n",
    "combined_in_range_counts = pd.concat([\n",
    "    baseline_in_range_counts, \n",
    "    context_in_range_counts,\n",
    "    example_in_range_counts,\n",
    "    context_example_in_range_counts,\n",
    "    external_context_in_range_counts\n",
    "])\n",
    "\n",
    "combined_in_range_counts"
   ]
  },
  {
   "cell_type": "code",
   "execution_count": 98,
   "metadata": {},
   "outputs": [
    {
     "data": {
      "image/png": "[encoded data removed]",
      "text/plain": [
       "<Figure size 400x300 with 1 Axes>"
      ]
     },
     "metadata": {},
     "output_type": "display_data"
    }
   ],
   "source": [
    "# plot percentage of true results in combined_in_range_counts\n",
    "plt.figure(figsize=(4, 3))\n",
    "\n",
    "ax = sns.barplot(\n",
    "    x=\"top_k_majority_in_range\",\n",
    "    y=\"percentage\",\n",
    "    hue=\"model\",\n",
    "    data=combined_in_range_counts,\n",
    ")\n",
    "\n",
    "ax.set_title(\"Percentage of in range predictions\")\n",
    "\n",
    "ax.set_xlabel(\"Prediction is in range\")\n",
    "ax.set_ylabel(\"Percentage\")\n",
    "\n",
    "# move legend to right side\n",
    "ax.legend(loc='center left', bbox_to_anchor=(1, 0.8))\n",
    "\n",
    "plt.show()"
   ]
  },
  {
   "cell_type": "code",
   "execution_count": 99,
   "metadata": {},
   "outputs": [
    {
     "data": {
      "text/html": [
       "<div>\n",
       "<style scoped>\n",
       "    .dataframe tbody tr th:only-of-type {\n",
       "        vertical-align: middle;\n",
       "    }\n",
       "\n",
       "    .dataframe tbody tr th {\n",
       "        vertical-align: top;\n",
       "    }\n",
       "\n",
       "    .dataframe thead th {\n",
       "        text-align: right;\n",
       "    }\n",
       "</style>\n",
       "<table border=\"1\" class=\"dataframe\">\n",
       "  <thead>\n",
       "    <tr style=\"text-align: right;\">\n",
       "      <th></th>\n",
       "      <th>top_k_majority_in_range</th>\n",
       "      <th>count</th>\n",
       "      <th>percentage</th>\n",
       "      <th>model</th>\n",
       "    </tr>\n",
       "  </thead>\n",
       "  <tbody>\n",
       "    <tr>\n",
       "      <th>1</th>\n",
       "      <td>True</td>\n",
       "      <td>27</td>\n",
       "      <td>27.55</td>\n",
       "      <td>baseline</td>\n",
       "    </tr>\n",
       "    <tr>\n",
       "      <th>1</th>\n",
       "      <td>True</td>\n",
       "      <td>27</td>\n",
       "      <td>27.55</td>\n",
       "      <td>context</td>\n",
       "    </tr>\n",
       "    <tr>\n",
       "      <th>1</th>\n",
       "      <td>True</td>\n",
       "      <td>24</td>\n",
       "      <td>24.49</td>\n",
       "      <td>example</td>\n",
       "    </tr>\n",
       "    <tr>\n",
       "      <th>1</th>\n",
       "      <td>True</td>\n",
       "      <td>28</td>\n",
       "      <td>28.57</td>\n",
       "      <td>context_example</td>\n",
       "    </tr>\n",
       "    <tr>\n",
       "      <th>1</th>\n",
       "      <td>True</td>\n",
       "      <td>30</td>\n",
       "      <td>30.61</td>\n",
       "      <td>external_context</td>\n",
       "    </tr>\n",
       "  </tbody>\n",
       "</table>\n",
       "</div>"
      ],
      "text/plain": [
       "   top_k_majority_in_range  count  percentage             model\n",
       "1                     True     27       27.55          baseline\n",
       "1                     True     27       27.55           context\n",
       "1                     True     24       24.49           example\n",
       "1                     True     28       28.57   context_example\n",
       "1                     True     30       30.61  external_context"
      ]
     },
     "execution_count": 99,
     "metadata": {},
     "output_type": "execute_result"
    }
   ],
   "source": [
    "true_counts = combined_in_range_counts[combined_in_range_counts[\"top_k_majority_in_range\"]]\n",
    "true_counts"
   ]
  },
  {
   "cell_type": "code",
   "execution_count": 101,
   "metadata": {},
   "outputs": [
    {
     "data": {
      "image/png": "[encoded data removed]",
      "text/plain": [
       "<Figure size 400x300 with 1 Axes>"
      ]
     },
     "metadata": {},
     "output_type": "display_data"
    }
   ],
   "source": [
    "# plot percentage against model in true_counts using seaborn\n",
    "plt.figure(figsize=(4, 3))\n",
    "\n",
    "ax = sns.barplot(\n",
    "    x=\"model\", \n",
    "    y=\"percentage\", \n",
    "    data=true_counts,\n",
    ")\n",
    "\n",
    "ax.set_title(\"Pipeline performance\")\n",
    "ax.set_xlabel(\"Pipeline\")\n",
    "ax.set_ylabel(\"Percentage of in-range predictions\")\n",
    "\n",
    "# set x-tick labels to 45 degrees and align with tick\n",
    "for item in ax.get_xticklabels():\n",
    "    item.set_rotation(30)\n",
    "    item.set_ha(\"right\")\n",
    "\n",
    "plt.ylim(0, 100)\n",
    "\n",
    "plt.show()"
   ]
  },
  {
   "cell_type": "code",
   "execution_count": null,
   "metadata": {},
   "outputs": [],
   "source": []
  }
 ],
 "metadata": {
  "kernelspec": {
   "display_name": "capstone",
   "language": "python",
   "name": "python3"
  },
  "language_info": {
   "codemirror_mode": {
    "name": "ipython",
    "version": 3
   },
   "file_extension": ".py",
   "mimetype": "text/x-python",
   "name": "python",
   "nbconvert_exporter": "python",
   "pygments_lexer": "ipython3",
   "version": "3.11.3"
  },
  "orig_nbformat": 4
 },
 "nbformat": 4,
 "nbformat_minor": 2
}
